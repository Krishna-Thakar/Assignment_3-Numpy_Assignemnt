{
  "nbformat": 4,
  "nbformat_minor": 0,
  "metadata": {
    "colab": {
      "provenance": []
    },
    "kernelspec": {
      "name": "python3",
      "display_name": "Python 3"
    },
    "language_info": {
      "name": "python"
    }
  },
  "cells": [
    {
      "cell_type": "markdown",
      "source": [
        "**Pyhton numpy Assignment**"
      ],
      "metadata": {
        "id": "BtRKws0Qi98f"
      }
    },
    {
      "cell_type": "markdown",
      "source": [
        "question 1 =  Create a NumPy array 'arr' of integers from 0 to 5 and print its data type.\n"
      ],
      "metadata": {
        "id": "3Z0-jd_Djsuj"
      }
    },
    {
      "cell_type": "code",
      "source": [
        "import numpy as np\n",
        "\n",
        "arr=np.array([0,1,2,3,4,5])\n",
        "print(f\"data type of arr is {arr.dtype}\")\n",
        "print(arr)"
      ],
      "metadata": {
        "colab": {
          "base_uri": "https://localhost:8080/"
        },
        "id": "j02zDTVYkHvO",
        "outputId": "a4a54e1b-b043-4fbb-d1b9-8e919b514df3"
      },
      "execution_count": null,
      "outputs": [
        {
          "output_type": "stream",
          "name": "stdout",
          "text": [
            "data type of arr is int64\n",
            "[0 1 2 3 4 5]\n"
          ]
        }
      ]
    },
    {
      "cell_type": "markdown",
      "source": [
        "**Code Execution Explanation**=>\n",
        "The code starts by importing the NumPy library as np. It creates a NumPy array named arr, containing the integers from 0 to 5, using the np.array function. The data type of the array elements is determined by accessing the dtype attribute (arr.dtype). The code then prints both the data type of the array and the array itself, displaying the elements [0, 1, 2, 3, 4, 5]. This demonstrates how to create a NumPy array and verify the type of its elements."
      ],
      "metadata": {
        "id": "RPCEc7EkkVMI"
      }
    },
    {
      "cell_type": "markdown",
      "source": [
        "question 2 = . Given a NumPy array 'arr', check if its data type is float64.\n",
        "arr = np.array([1.5, 2.6, 3.7])"
      ],
      "metadata": {
        "id": "YDJ24LOWnmzQ"
      }
    },
    {
      "cell_type": "code",
      "source": [
        "import numpy as np\n",
        "\n",
        "arr = np.array([1.5, 2.6, 3.7])\n",
        "if arr.dtype == np.float64:\n",
        "    print(\"Data type is np.float64\")\n",
        "else:\n",
        "    print(\"Data type is not np.float64\")\n"
      ],
      "metadata": {
        "colab": {
          "base_uri": "https://localhost:8080/"
        },
        "id": "6Fi3C8jUn04k",
        "outputId": "bca1f94e-4792-4cb8-cd18-f67e8f060d9a"
      },
      "execution_count": null,
      "outputs": [
        {
          "output_type": "stream",
          "name": "stdout",
          "text": [
            "Data type is np.float64\n"
          ]
        }
      ]
    },
    {
      "cell_type": "markdown",
      "source": [
        "**Code Execution Explanation=>**\n",
        "This code begins by importing NumPy as np and creates a NumPy array named arr containing the floating-point numbers [1.5, 2.6, 3.7]. It then checks the data type of arr using arr.dtype. If arr's data type matches np.float64, it prints \"Data type is np.float64\", confirming the presence of 64-bit floating-point numbers in the array. Otherwise, it prints \"Data type is not np.float64\". This example showcases how to identify and validate specific data types within NumPy arrays, essential for precise numerical operations and data analysis."
      ],
      "metadata": {
        "id": "wYmCQGo0oDNi"
      }
    },
    {
      "cell_type": "markdown",
      "source": [
        "question 3 =  Create a NumPy array 'arr' with a data type of complex128 containing three complex numbers."
      ],
      "metadata": {
        "id": "PH4i0Fjipuj8"
      }
    },
    {
      "cell_type": "code",
      "source": [
        "import numpy as np\n",
        "\n",
        "arr = np.array([11+2j, 33+4j, 55+6j], dtype=np.complex128)\n",
        "\n",
        "print('''Array of complex numbers : ''')\n",
        "print(arr)\n",
        "\n",
        "print('\\nData type of the array \"arr.dtype\":')\n",
        "print(arr.dtype)\n"
      ],
      "metadata": {
        "id": "edbEu0Mup6Oi"
      },
      "execution_count": null,
      "outputs": []
    },
    {
      "cell_type": "markdown",
      "source": [
        "Code Execution Explanation=>\n",
        "This code creates a NumPy array named arr with a data type of complex128, containing three complex numbers: 11+2j, 33+4j, and 55+6j. It prints the array of complex numbers and confirms the data type of arr as complex128. This demonstrates how to initialize and verify a NumPy array with complex numbers of a specific precision, useful for handling complex data in scientific computing and engineering applications."
      ],
      "metadata": {
        "id": "pmtAg04Ep-N7"
      }
    },
    {
      "cell_type": "markdown",
      "source": [
        "question 4 =  Convert an existing NumPy array 'arr' of integers to float32 data type."
      ],
      "metadata": {
        "id": "RsBVY_Cgq_ij"
      }
    },
    {
      "cell_type": "code",
      "source": [
        "import numpy as np\n",
        "\n",
        "arr = np.array([10, 20, 30, 40, 50])\n",
        "print(f\"Original array (arr) with integer data type: \\n  {arr}\")\n",
        "print(\"Data type of arr:\", arr.dtype)\n",
        "arr_float32 = arr.astype(np.float32)\n",
        "print(f\"Converted array (arr_float32) with float32 data type: \\n {arr_float32}\")\n",
        "\n",
        "print(\"Data type of arr_float32:\", arr_float32.dtype)\n"
      ],
      "metadata": {
        "colab": {
          "base_uri": "https://localhost:8080/"
        },
        "id": "dGiQgd1GrGxH",
        "outputId": "ea2d4f49-a35d-4717-b18b-ef2ccf34523c"
      },
      "execution_count": null,
      "outputs": [
        {
          "output_type": "stream",
          "name": "stdout",
          "text": [
            "Original array (arr) with integer data type: \n",
            "  [10 20 30 40 50]\n",
            "Data type of arr: int64\n",
            "Converted array (arr_float32) with float32 data type: \n",
            " [10. 20. 30. 40. 50.]\n",
            "Data type of arr_float32: float32\n"
          ]
        }
      ]
    },
    {
      "cell_type": "markdown",
      "source": [
        "Code Execution Explanation=>\n",
        "This code initializes a NumPy array arr with integers [10, 20, 30, 40, 50] and prints it along with its original data type. It then converts arr to float32 using .astype(np.float32) to create arr_float32, printing the converted array and confirming its new data type. This demonstrates the process of converting NumPy array data types, ensuring data compatibility and precision in computations."
      ],
      "metadata": {
        "id": "L0B45mKDrigp"
      }
    },
    {
      "cell_type": "markdown",
      "source": [
        "question 5 =  Give a NumPy array 'arr' with float64 data type, convert it to float32 to reduce decimal precision."
      ],
      "metadata": {
        "id": "2nktTqq8sV-j"
      }
    },
    {
      "cell_type": "code",
      "source": [
        "import numpy as np\n",
        "arr = np.array([1.1, 2.2, 3.3, 4.4, 5.5], dtype=np.float64)\n",
        "print(\"Original array (arr) with float64 data type:\")\n",
        "print(arr)\n",
        "print(\"Data type of arr:\", arr.dtype)\n",
        "\n",
        "arr_float32 = arr.astype(np.float32)\n",
        "print(\"\\nConverted array  with float32 data type:\")\n",
        "print(arr_float32)\n",
        "print(\"Data type of arr_float32:\", arr_float32.dtype)\n"
      ],
      "metadata": {
        "colab": {
          "base_uri": "https://localhost:8080/"
        },
        "id": "beDOlGDpsm-C",
        "outputId": "6cfcc99e-6ef8-4b7a-92b6-4e42654d1f93"
      },
      "execution_count": null,
      "outputs": [
        {
          "output_type": "stream",
          "name": "stdout",
          "text": [
            "Original array (arr) with float64 data type:\n",
            "[1.1 2.2 3.3 4.4 5.5]\n",
            "Data type of arr: float64\n",
            "\n",
            "Converted array  with float32 data type:\n",
            "[1.1 2.2 3.3 4.4 5.5]\n",
            "Data type of arr_float32: float32\n"
          ]
        }
      ]
    },
    {
      "cell_type": "markdown",
      "source": [
        "**Code Execution Explanation=>**\n",
        "This code initializes a NumPy array arr with floating-point numbers [1.1, 2.2, 3.3, 4.4, 5.5] and specifies its data type as float64 using dtype=np.float64. It prints the original array arr and confirms its data type. Then, it converts arr to float32 using .astype(np.float32) to create arr_float32, which reduces decimal precision. The converted array arr_float32 is printed, along with its data type confirmation using arr_float32.dtype. This demonstrates how to adjust data precision in NumPy arrays for specific computational needs."
      ],
      "metadata": {
        "id": "sC2hy84Aqz6l"
      }
    },
    {
      "cell_type": "markdown",
      "source": [
        "question 6 = Write a function array_attributes that takes a NumPy array as input and returns its shape, size, and data type"
      ],
      "metadata": {
        "id": "JopltxnbtNWT"
      }
    },
    {
      "cell_type": "code",
      "source": [
        "import numpy as np\n",
        "\n",
        "def array_attributes(arr):\n",
        "    shape = arr.shape\n",
        "    size = arr.size\n",
        "    dtype = arr.dtype\n",
        "    return shape, size, dtype\n",
        "\n",
        "arr = np.array([[1.5, 2.6, 3.7], [4.8, 5.9, 6.1]])\n",
        "attributes = array_attributes(arr)\n",
        "\n",
        "print(f\"array:\\n {arr}\")\n",
        "print(\"Shape:\", attributes[0])\n",
        "print(\"Size:\", attributes[1])\n",
        "print(\"Data type:\", attributes[2])\n",
        "\n"
      ],
      "metadata": {
        "colab": {
          "base_uri": "https://localhost:8080/"
        },
        "id": "GN4D66EWtdj3",
        "outputId": "69e82d02-dfa8-4d34-8ff5-ca45c493b477"
      },
      "execution_count": null,
      "outputs": [
        {
          "output_type": "stream",
          "name": "stdout",
          "text": [
            "array:\n",
            " [[1.5 2.6 3.7]\n",
            " [4.8 5.9 6.1]]\n",
            "Shape: (2, 3)\n",
            "Size: 6\n",
            "Data type: float64\n"
          ]
        }
      ]
    },
    {
      "cell_type": "markdown",
      "source": [
        "**Code Execution Explanation=>**\n",
        "This code defines a function array_attributes(arr) that accepts a NumPy array arr as input. Inside the function, it retrieves the shape, size, and data type of the array arr using arr.shape, arr.size, and arr.dtype, respectively. The function returns these attributes as a tuple (shape, size, dtype). An example array arr is created with dimensions 2x3, containing floating-point numbers. The function array_attributes is called with arr, and the returned attributes are stored in attributes. The script then prints the original array arr and accesses its shape, size, and data type from attributes, demonstrating how to retrieve and display fundamental properties of a NumPy array."
      ],
      "metadata": {
        "id": "lWCGS0ZDrUJJ"
      }
    },
    {
      "cell_type": "markdown",
      "source": [
        "question 7 =  Create a function array_dimension that takes a NumPy array as input and returns its dimensionality."
      ],
      "metadata": {
        "id": "TYKYMxcetmFN"
      }
    },
    {
      "cell_type": "code",
      "source": [
        "import numpy as np\n",
        "def array_dimension(array):\n",
        "\n",
        "    np_array = np.array(array)\n",
        "    dimensions = np_array.ndim\n",
        "    return dimensions\n",
        "\n",
        "arr_1d = np.array([1, 2, 3])\n",
        "arr_2d = np.array([[10, 20, 30], [40, 50, 60]])\n",
        "arr_3d = np.array([[[1.5, 2.5, 3.5], [4.5, 5.5, 6.5]], [[7.5, 8.5, 9.5], [10.5, 11.5, 12.5]]])\n",
        "\n",
        "print(\"Dimensionality of arr_1d:\", array_dimension(arr_1d))\n",
        "print(\"Dimensionality of arr_2d:\", array_dimension(arr_2d))\n",
        "print(\"Dimensionality of arr_3d:\", array_dimension(arr_3d))\n"
      ],
      "metadata": {
        "colab": {
          "base_uri": "https://localhost:8080/"
        },
        "id": "EM87hDUctsY3",
        "outputId": "ffe785fc-3cf4-47b6-a26c-e2279abf1898"
      },
      "execution_count": null,
      "outputs": [
        {
          "output_type": "stream",
          "name": "stdout",
          "text": [
            "Dimensionality of arr_1d: 1\n",
            "Dimensionality of arr_2d: 2\n",
            "Dimensionality of arr_3d: 3\n"
          ]
        }
      ]
    },
    {
      "cell_type": "markdown",
      "source": [
        "**Code Execution Explanation=>**\n",
        "This code  defines a function array_dimension that takes a NumPy array as input and returns its dimensionality using np.array(array).ndim. It demonstrates the function's usage by applying it to arrays arr_1d, arr_2d, and arr_3d, printing their respective dimensionalities. This showcases how to determine the number of dimensions in a NumPy array programmatically."
      ],
      "metadata": {
        "id": "z2SbqGAxrrw5"
      }
    },
    {
      "cell_type": "markdown",
      "source": [
        "question 8 = Design a function item_size_info that takes a NumPy array as input and returns the item size and the total\n",
        "size in bytes."
      ],
      "metadata": {
        "id": "GfLuXD5Itw0v"
      }
    },
    {
      "cell_type": "code",
      "source": [
        "import numpy as np\n",
        "\n",
        "def item_size_info(arr):\n",
        "\n",
        "    item_size = arr.itemsize\n",
        "    total_size = arr.nbytes\n",
        "    return item_size, total_size\n",
        "\n",
        "arr = np.array([[1, 2, 3], [4, 5, 6]])\n",
        "a_size= item_size_info(arr)\n",
        "print(\"ieam_size:\", a_size[0])\n",
        "print(\"total_Size:\", a_size[1])\n"
      ],
      "metadata": {
        "id": "3RmHzvyst3tw",
        "colab": {
          "base_uri": "https://localhost:8080/"
        },
        "outputId": "f0c06c2c-431d-4c89-cd4c-f84e3e2bf2f6"
      },
      "execution_count": null,
      "outputs": [
        {
          "output_type": "stream",
          "name": "stdout",
          "text": [
            "ieam_size: 8\n",
            "total_Size: 48\n"
          ]
        }
      ]
    },
    {
      "cell_type": "markdown",
      "source": [
        "**Code Execution Explanation=>**\n",
        "This code defines a function item_size_info that takes a NumPy array arr as input. Inside the function, it retrieves the size (in bytes) of each individual element in the array using arr.itemsize and calculates the total memory consumption of the array using arr.nbytes. The function returns these values as a tuple (item_size, total_size). An example array arr is created using NumPy, and the item_size_info function is called with arr. It then prints the size of each array element (item_size) and the total size of the array (total_size). This function is essential for understanding memory usage and data storage requirements when working with NumPy arrays, providing crucial information for efficient memory management and optimization in data-intensive applications.\n",
        "\n",
        "\n"
      ],
      "metadata": {
        "id": "gELqbp0usZd_"
      }
    },
    {
      "cell_type": "markdown",
      "source": [
        "question 9 =  Create a function array_strides that takes a NumPy array as input and returns the strides of the array.\n"
      ],
      "metadata": {
        "id": "__8QYd0BsnJj"
      }
    },
    {
      "cell_type": "code",
      "source": [
        "import numpy as np\n",
        "\n",
        "def array_strides(arr):\n",
        "\n",
        "    a1=np.array(arr)\n",
        "    print(f\"data type= {a1.dtype}\")\n",
        "    return a1.strides\n",
        "\n",
        "arr = np.array([[1, 2, 3, 4, 5, 6, 7], [8, 9, 10, 11, 12, 13, 14]])\n",
        "#arr=[[10,20,30,40,50],[60,70,80,90,100]] #here this is example, we can simply pass simple list\n",
        "                                            # our function will convert it into numpy array\n",
        "strides = array_strides(arr)\n",
        "\n",
        "print(\"Strides:\", strides)\n"
      ],
      "metadata": {
        "colab": {
          "base_uri": "https://localhost:8080/"
        },
        "id": "VVDBasSmswLr",
        "outputId": "df127f6d-8345-4601-ea2c-407fac4fd32d"
      },
      "execution_count": null,
      "outputs": [
        {
          "output_type": "stream",
          "name": "stdout",
          "text": [
            "data type= int64\n",
            "Strides: (56, 8)\n"
          ]
        }
      ]
    },
    {
      "cell_type": "markdown",
      "source": [
        "**Code Execution Explanation=>**\n",
        "This code defines a function array_strides that takes a NumPy array arr as input. It converts arr into a NumPy array a1, prints its data type, and returns the array's strides using a1.strides. Strides indicate the number of bytes to step in each dimension when traversing the array. An example array arr is created, and array_strides is called to retrieve and print its strides, demonstrating how to access dimensional stepping information in NumPy arrays efficiently.\n"
      ],
      "metadata": {
        "id": "NSxMDfSLtaEy"
      }
    },
    {
      "cell_type": "markdown",
      "source": [
        "question 10 = Design a function shape_stride_relationship that takes a NumPy array as input and returns the shape\n",
        "and strides of the array."
      ],
      "metadata": {
        "id": "CmhubgPOtRv6"
      }
    },
    {
      "cell_type": "code",
      "source": [
        "import numpy as np\n",
        "def shape_stride_relationship(arr):\n",
        "    a1=np.array(arr)\n",
        "    a_shape=a1.shape\n",
        "    a_strides=a1.strides\n",
        "    return a_shape,a_strides\n",
        "\n",
        "arr=np.array([[1,2,3,4,5],[10,20,30,40,50],[100,200,300,400,500]])\n",
        "answer=shape_stride_relationship(arr)\n",
        "print(f\" array: \\n {arr}\")\n",
        "print(f\"shape of array  {answer[0]}\")\n",
        "print(f\"strides of array {answer[1]}\")\n"
      ],
      "metadata": {
        "colab": {
          "base_uri": "https://localhost:8080/"
        },
        "id": "26F5_yoKte8P",
        "outputId": "23d17c4e-80e3-47b1-d03d-85033bc52e98"
      },
      "execution_count": null,
      "outputs": [
        {
          "output_type": "stream",
          "name": "stdout",
          "text": [
            " array: \n",
            " [[  1   2   3   4   5]\n",
            " [ 10  20  30  40  50]\n",
            " [100 200 300 400 500]]\n",
            "shape of array  (3, 5)\n",
            "strides of array (40, 8)\n"
          ]
        }
      ]
    },
    {
      "cell_type": "markdown",
      "source": [
        "**Code Execution Explanation=>**\n",
        "The function shape_stride_relationship takes a NumPy array arr as input, converting it into a NumPy array a1. It retrieves and returns the shape of a1 using a1.shape and its strides (memory layout) using a1.strides. An example array arr is created and passed to the function, which prints the array along with its shape and strides. This demonstrates how to programmatically access and display essential structural information about a NumPy array, useful for understanding its dimensions and memory organization in computational tasks."
      ],
      "metadata": {
        "id": "F20dejCIuSML"
      }
    },
    {
      "cell_type": "markdown",
      "source": [
        "question 11 =  Create a function `create_zeros_array` that takes an integer `n` as input and returns a NumPy array of\n",
        "zeros with `n` elements."
      ],
      "metadata": {
        "id": "TRz4x1ueuJu8"
      }
    },
    {
      "cell_type": "code",
      "source": [
        "import numpy as np\n",
        "\n",
        "def create_zeros_array(n):\n",
        "    return np.zeros(n)\n",
        "n = 7\n",
        "zeros_array = create_zeros_array(n)\n",
        "print(\"Array of zeros:\", zeros_array)"
      ],
      "metadata": {
        "colab": {
          "base_uri": "https://localhost:8080/"
        },
        "id": "r13wF3RJuOav",
        "outputId": "30bdc09d-5978-4ddf-bc30-6897be2c7747"
      },
      "execution_count": null,
      "outputs": [
        {
          "output_type": "stream",
          "name": "stdout",
          "text": [
            "Array of zeros: [0. 0. 0. 0. 0. 0. 0.]\n"
          ]
        }
      ]
    },
    {
      "cell_type": "markdown",
      "source": [
        "**Code Execution Explanation=>**\n",
        "This code defines a function create_zeros_array(n) that uses NumPy's np.zeros() function to generate an array of zeros with n elements. The function returns this array. An example integer n = 7 is provided, and the function create_zeros_array is called with n to initialize zeros_array. It then prints zeros_array, demonstrating how to create and display a NumPy array filled with zeros of specified length n. This function is useful for initializing arrays in numerical computations or data processing tasks where zero initialization is required."
      ],
      "metadata": {
        "id": "VR3vQie0u5iX"
      }
    },
    {
      "cell_type": "markdown",
      "source": [
        "question 12 = Write a function `create_ones_matrix` that takes integers `rows` and `cols` as inputs and generates a 2D\n",
        "NumPy array filled with ones of size `rows x cols`."
      ],
      "metadata": {
        "id": "S69pEH9Cue7u"
      }
    },
    {
      "cell_type": "code",
      "source": [
        "import numpy as np\n",
        "\n",
        "def create_ones_matrix(rows,cols):\n",
        "\n",
        "    return np.ones((rows,cols))\n",
        "\n",
        "rows = 7\n",
        "cols = 5\n",
        "ones_matrix = create_ones_matrix(rows,cols)\n",
        "\n",
        "print(\"Array of ones: \\n\", ones_matrix)"
      ],
      "metadata": {
        "colab": {
          "base_uri": "https://localhost:8080/"
        },
        "id": "CZUaeOXLumZy",
        "outputId": "fda16445-a7b0-4582-bf2a-8ffd2d67e9c4"
      },
      "execution_count": null,
      "outputs": [
        {
          "output_type": "stream",
          "name": "stdout",
          "text": [
            "Array of ones: \n",
            " [[1. 1. 1. 1. 1.]\n",
            " [1. 1. 1. 1. 1.]\n",
            " [1. 1. 1. 1. 1.]\n",
            " [1. 1. 1. 1. 1.]\n",
            " [1. 1. 1. 1. 1.]\n",
            " [1. 1. 1. 1. 1.]\n",
            " [1. 1. 1. 1. 1.]]\n"
          ]
        }
      ]
    },
    {
      "cell_type": "markdown",
      "source": [
        "**Code Execution Explanation=>**\n",
        "This code defines a function create_ones_matrix(rows, cols) that utilizes NumPy's np.ones() function to create a 2D array filled with ones, with dimensions specified by rows and cols. The function returns this array. Example integers rows = 7 and cols = 5 are provided, and create_ones_matrix is called with these parameters to initialize ones_matrix. It then prints ones_matrix, illustrating how to create and display a 2D NumPy array filled with ones. This function is valuable for initializing matrices in applications requiring uniform data initialization or for numerical computations where an array of ones is beneficial."
      ],
      "metadata": {
        "id": "p6nm6iC0vNEp"
      }
    },
    {
      "cell_type": "markdown",
      "source": [
        "question 13 =Write a function `generate_range_array` that takes three integers start, stop, and step as arguments and\n",
        "creates a NumPy array with a range starting from `start`, ending at stop (exclusive), and with the specified\n",
        "`step`"
      ],
      "metadata": {
        "id": "hfseui-LwOaw"
      }
    },
    {
      "cell_type": "code",
      "source": [
        "import numpy as np\n",
        "def generate_range_array(start, stop, step):\n",
        "    return np.arange(start, stop, step)\n",
        "\n",
        "ans=generate_range_array(1, 20, 2)\n",
        "print(f\"array :\\n {ans}\")"
      ],
      "metadata": {
        "colab": {
          "base_uri": "https://localhost:8080/"
        },
        "id": "MFGmWEj7wasB",
        "outputId": "a6b4fc3f-66d1-4824-c1cd-b653d7c853d2"
      },
      "execution_count": null,
      "outputs": [
        {
          "output_type": "stream",
          "name": "stdout",
          "text": [
            "array :\n",
            " [ 1  3  5  7  9 11 13 15 17 19]\n"
          ]
        }
      ]
    },
    {
      "cell_type": "markdown",
      "source": [
        "**Code Execution Explanation=>**This code defines a function generate_range_array(start, stop, step) that uses NumPy's np.arange() function to generate an array starting from start, ending before stop, and incrementing by step. The function returns this array. Example integers start = 1, stop = 20, and step = 2 are provided, and generate_range_array is called with these arguments to create ans. It then prints ans, demonstrating how to create and display a NumPy array with a specified range and step size. This function is useful for generating sequences of numbers for mathematical operations, data indexing, or iterative processes in computational tasks."
      ],
      "metadata": {
        "id": "qH0zfbrhvqkw"
      }
    },
    {
      "cell_type": "markdown",
      "source": [
        "question 14 =  Design a function `generate_linear_space` that takes two floats `start`, `stop`, and an integer `num` as\n",
        "arguments and generates a NumPy array with num equally spaced values between `start` and `stop`\n",
        "(inclusive)."
      ],
      "metadata": {
        "id": "DvAml_TLw42c"
      }
    },
    {
      "cell_type": "code",
      "source": [
        "import numpy as np\n",
        "\n",
        "def generate_linear_space(start, stop, num):\n",
        "\n",
        "    return np.linspace(start, stop, num)\n",
        "\n",
        "result = generate_linear_space(5.5, 10.5, 5)\n",
        "print(result)"
      ],
      "metadata": {
        "colab": {
          "base_uri": "https://localhost:8080/"
        },
        "id": "I9jadL2KxFXC",
        "outputId": "4366b5c9-236d-4241-8390-50ab0ad79df8"
      },
      "execution_count": null,
      "outputs": [
        {
          "output_type": "stream",
          "name": "stdout",
          "text": [
            "[ 5.5   6.75  8.    9.25 10.5 ]\n"
          ]
        }
      ]
    },
    {
      "cell_type": "markdown",
      "source": [
        "**Code Execution Explanation=>**The function generate_linear_space(start, stop, num) utilizes NumPy's np.linspace() function, which generates num evenly spaced values over the interval [start, stop], both inclusive. In this script, generate_linear_space is called with start = 5.5, stop = 10.5, and num = 5. This creates an array result containing five values equally spaced between 5.5 and 10.5. The print(result) statement outputs the generated array, demonstrating how np.linspace() facilitates the creation of evenly spaced sequences in NumPy, useful for various numerical computations, data visualization, and scientific applications."
      ],
      "metadata": {
        "id": "l8iPhKDKKo4f"
      }
    },
    {
      "cell_type": "markdown",
      "source": [
        "question 15 =   Create a function `create_identity_matrix` that takes an integer `n` as input and generates a square\n",
        "identity matrix of size `n x n` using `numpy.eye`."
      ],
      "metadata": {
        "id": "PGCwxl6CxRbK"
      }
    },
    {
      "cell_type": "code",
      "source": [
        "import numpy as np\n",
        "def create_identity_matrix(n):\n",
        "    return np.eye(n)\n",
        "result = create_identity_matrix(7)\n",
        "print(result)"
      ],
      "metadata": {
        "colab": {
          "base_uri": "https://localhost:8080/"
        },
        "id": "ydBCInrHyzPQ",
        "outputId": "8fef0642-0d73-4c25-9b5a-4cb9752f09a7"
      },
      "execution_count": null,
      "outputs": [
        {
          "output_type": "stream",
          "name": "stdout",
          "text": [
            "[[1. 0. 0. 0. 0. 0. 0.]\n",
            " [0. 1. 0. 0. 0. 0. 0.]\n",
            " [0. 0. 1. 0. 0. 0. 0.]\n",
            " [0. 0. 0. 1. 0. 0. 0.]\n",
            " [0. 0. 0. 0. 1. 0. 0.]\n",
            " [0. 0. 0. 0. 0. 1. 0.]\n",
            " [0. 0. 0. 0. 0. 0. 1.]]\n"
          ]
        }
      ]
    },
    {
      "cell_type": "markdown",
      "source": [
        "**Code Execution Explanation=>**\n",
        "The function create_identity_matrix(n) utilizes NumPy's np.eye() function to generate a square identity matrix of size n x n. An identity matrix is a square matrix with ones on the main diagonal and zeros elsewhere. In this script, the function is called with n = 7, creating an identity matrix result of size 7x7. The print(result) statement outputs the generated matrix, demonstrating how to use np.eye() to create identity matrices, which are useful in various mathematical computations, including solving systems of linear equations and linear transformations in numerical analysis."
      ],
      "metadata": {
        "id": "cZXjeF8yNxT9"
      }
    },
    {
      "cell_type": "markdown",
      "source": [
        "question 16 =  Write a function that takes a Python list and converts it into a NumPy array."
      ],
      "metadata": {
        "id": "i3ixETjAzCuA"
      }
    },
    {
      "cell_type": "code",
      "source": [
        "import numpy as np\n",
        "\n",
        "def list_to_numpy(lst):\n",
        "    numpy_array = np.array(lst)\n",
        "    return numpy_array\n",
        "lst = [[1, 2, 3], [4, 5, 6]]\n",
        "print(\"Original list:\", lst)\n",
        "print(\"Type of original list:\", type(lst))\n",
        "converted_array = list_to_numpy(lst)\n",
        "\n",
        "# Print the converted NumPy array and its type\n",
        "print(\"Converted NumPy array: \\n \", converted_array)\n",
        "print(\"Type of converted array:\", type(converted_array))\n"
      ],
      "metadata": {
        "colab": {
          "base_uri": "https://localhost:8080/"
        },
        "id": "j-J0pIFCzJjD",
        "outputId": "6cc37837-a3f3-4b29-ccf6-53b41d5a1d1c"
      },
      "execution_count": null,
      "outputs": [
        {
          "output_type": "stream",
          "name": "stdout",
          "text": [
            "Original list: [[1, 2, 3], [4, 5, 6]]\n",
            "Type of original list: <class 'list'>\n",
            "Converted NumPy array: \n",
            "  [[1 2 3]\n",
            " [4 5 6]]\n",
            "Type of converted array: <class 'numpy.ndarray'>\n"
          ]
        }
      ]
    },
    {
      "cell_type": "markdown",
      "source": [
        "**Code Execution Explanation=>**\n",
        "The function list_to_numpy(lst) converts a given Python list lst into a NumPy array using np.array(lst). The function returns this NumPy array. In this script, an example list lst containing nested lists is provided. The function is called with lst to create converted_array. The script prints the original list and its type, then prints the converted NumPy array and its type, demonstrating the conversion process. This function is useful for transforming Python lists into NumPy arrays, which offer enhanced performance and functionality for numerical operations and data manipulation."
      ],
      "metadata": {
        "id": "gZbivS83N_bf"
      }
    },
    {
      "cell_type": "markdown",
      "source": [
        "question 17 =  Create a NumPy array and demonstrate the use of `numpy.view` to create a new array object with the\n",
        "same data.\n"
      ],
      "metadata": {
        "id": "czZgRust2tt2"
      }
    },
    {
      "cell_type": "code",
      "source": [
        "import numpy as np\n",
        "\n",
        "original_array = np.array([[1, 2, 3], [4, 5, 6]])\n",
        "view_array = original_array.view()\n",
        "print(\"Original Array:\")\n",
        "print(original_array)\n",
        "print(\"\\nView Array:\")\n",
        "print(view_array)\n",
        "view_array[0, 0] = 100  #here i added this part to show  how view actually works\n",
        "\n",
        "print(\"Original Array:\")\n",
        "print(original_array)\n",
        "print(\"\\nView Array:\")\n",
        "print(view_array)\n",
        "print(\"As you can see, modifying the view array also modifies the original array, because they share the same data\")"
      ],
      "metadata": {
        "colab": {
          "base_uri": "https://localhost:8080/"
        },
        "id": "06M1nqCW29AT",
        "outputId": "07cb70e2-bdc1-41ef-8f48-5d4441a19c6e"
      },
      "execution_count": null,
      "outputs": [
        {
          "output_type": "stream",
          "name": "stdout",
          "text": [
            "Original Array:\n",
            "[[1 2 3]\n",
            " [4 5 6]]\n",
            "\n",
            "View Array:\n",
            "[[1 2 3]\n",
            " [4 5 6]]\n",
            "Original Array:\n",
            "[[100   2   3]\n",
            " [  4   5   6]]\n",
            "\n",
            "View Array:\n",
            "[[100   2   3]\n",
            " [  4   5   6]]\n",
            "As you can see, modifying the view array also modifies the original array, because they share the same data\n"
          ]
        }
      ]
    },
    {
      "cell_type": "markdown",
      "source": [
        "**Code Execution Explanation=>**\n",
        "This code demonstrates the use of numpy.view to create a new array object that shares the same data as the original array. An original_array is created, and view_array is generated as a view of original_array using the original_array.view() method. Both arrays are printed to show their initial state. When the first element of view_array is modified, the corresponding element in original_array also changes, illustrating that views share the same data but are different array objects. This is useful for working with different array perspectives without duplicating data, enabling efficient memory usage and data manipulation."
      ],
      "metadata": {
        "id": "0Mjo2IJYOR29"
      }
    },
    {
      "cell_type": "markdown",
      "source": [
        "question 18 =  Write a function that takes two NumPy arrays and concatenates them along a specified axis."
      ],
      "metadata": {
        "id": "Rh0rn3XF5t66"
      }
    },
    {
      "cell_type": "code",
      "source": [
        "import numpy as np\n",
        "\n",
        "def concatenate_arrays(arr1, arr2, axis=0):\n",
        "\n",
        "    return np.concatenate((arr1, arr2), axis=axis)\n",
        "\n",
        "array1 = np.array([[1, 2], [3, 4]])\n",
        "array2 = np.array([[5, 6], [7, 8]])\n",
        "\n",
        "result = concatenate_arrays(array1, array2)#here it will take axis by deafult 0 as we set default value is 0\n",
        "print(\"Concatenated along axis 0 for rows:\\n\", result)\n",
        "\n",
        "result = concatenate_arrays(array1, array2,axis=1)\n",
        "print(\"\\nConcatenated along axis 1 for columns :\\n\", result)\n"
      ],
      "metadata": {
        "colab": {
          "base_uri": "https://localhost:8080/"
        },
        "id": "8iJRmBT-50Fn",
        "outputId": "6b94a93c-3666-4e3e-a96e-38ec07db22d6"
      },
      "execution_count": null,
      "outputs": [
        {
          "output_type": "stream",
          "name": "stdout",
          "text": [
            "Concatenated along axis 0 for rows:\n",
            " [[1 2]\n",
            " [3 4]\n",
            " [5 6]\n",
            " [7 8]]\n",
            "\n",
            "Concatenated along axis 1 for columns :\n",
            " [[1 2 5 6]\n",
            " [3 4 7 8]]\n"
          ]
        }
      ]
    },
    {
      "cell_type": "markdown",
      "source": [
        "**Code Execution Explanation=>**\n",
        "The function concatenate_arrays(arr1, arr2, axis=0) uses NumPy's np.concatenate() to merge two arrays, arr1 and arr2, along a specified axis. By default, the concatenation is performed along axis 0 (rows). The script provides two example arrays, array1 and array2, and demonstrates concatenation along both rows and columns. First, the function is called without specifying the axis, resulting in concatenation along rows. Then, it is called with axis=1, resulting in concatenation along columns. This function is useful for merging arrays in various configurations for data analysis and manipulation tasks."
      ],
      "metadata": {
        "id": "xQnUickVO60R"
      }
    },
    {
      "cell_type": "markdown",
      "source": [
        "question 19 =  Create two NumPy arrays with different shapes and concatenate them horizontally using `numpy.\n",
        " concatenate`."
      ],
      "metadata": {
        "id": "LFJmAP-D5_T8"
      }
    },
    {
      "cell_type": "code",
      "source": [
        "import numpy as np\n",
        "arr1=np.array([[1,2,3,4],[5,6,7,8],[9,10,11,12]])\n",
        "arr2=np.array([[100,200,300],[400,500,600],[700,800,900]])\n",
        "print(arr1.shape)\n",
        "print(arr2.shape)\n",
        "\n",
        "concat=np.concatenate((arr1,arr2),axis=1)\n",
        "print(concat)"
      ],
      "metadata": {
        "colab": {
          "base_uri": "https://localhost:8080/"
        },
        "id": "YUE0e2Bd6Ji1",
        "outputId": "c214b8d1-bb48-4080-913b-2339ab4b45db"
      },
      "execution_count": null,
      "outputs": [
        {
          "output_type": "stream",
          "name": "stdout",
          "text": [
            "(3, 4)\n",
            "(3, 3)\n",
            "[[  1   2   3   4 100 200 300]\n",
            " [  5   6   7   8 400 500 600]\n",
            " [  9  10  11  12 700 800 900]]\n"
          ]
        }
      ]
    },
    {
      "cell_type": "markdown",
      "source": [
        "**Code Execution Explanation=>**\n",
        "This code demonstrates how to concatenate two NumPy arrays with different shapes horizontally using numpy.concatenate. Two arrays, arr1 and arr2, are defined with shapes (3, 4) and (3, 3) respectively. The shapes are printed to verify their dimensions. The np.concatenate((arr1, arr2), axis=1) function is used to concatenate these arrays along axis 1 (columns). The resulting array, concat, combines the columns of arr1 and arr2 side by side. This technique is useful for merging arrays with compatible dimensions in a horizontal manner, facilitating data combination and manipulation."
      ],
      "metadata": {
        "id": "rkGyKqYDPWjp"
      }
    },
    {
      "cell_type": "markdown",
      "source": [
        "question 20 = Write a function that vertically stacks multiple NumPy arrays given as a list."
      ],
      "metadata": {
        "id": "w_eqo1Hh6pzk"
      }
    },
    {
      "cell_type": "code",
      "source": [
        "def v_stack_array(arr_list):\n",
        "\n",
        "    a_vertical = np.vstack(arr_list)\n",
        "    return a_vertical\n",
        "\n",
        "# Convert lists to NumPy arrays\n",
        "array1 = np.array([[10, 20, 30], [40, 50, 60]])\n",
        "array2 = np.array([[70, 80, 90], [100, 110, 120], [130, 140, 150]])\n",
        "array3 = np.array([[100, 200, 300], [400, 500, 600], [700, 800, 900], [1000, 1100, 1200]])\n",
        "\n",
        "arr_list = [array1, array2, array3]\n",
        "answer = v_stack_array(arr_list)\n",
        "print(answer)\n"
      ],
      "metadata": {
        "colab": {
          "base_uri": "https://localhost:8080/"
        },
        "id": "lAHj9SEo6y3u",
        "outputId": "b79c49c2-919f-4851-d1c1-e049391fee9d"
      },
      "execution_count": null,
      "outputs": [
        {
          "output_type": "stream",
          "name": "stdout",
          "text": [
            "[[  10   20   30]\n",
            " [  40   50   60]\n",
            " [  70   80   90]\n",
            " [ 100  110  120]\n",
            " [ 130  140  150]\n",
            " [ 100  200  300]\n",
            " [ 400  500  600]\n",
            " [ 700  800  900]\n",
            " [1000 1100 1200]]\n"
          ]
        }
      ]
    },
    {
      "cell_type": "markdown",
      "source": [
        "**Code Execution Explanation=>**\n",
        "The function v_stack_array(arr_list) uses NumPy's np.vstack() to vertically stack multiple arrays provided in the list arr_list. The function converts these arrays into a single array by stacking them along the vertical axis (axis 0). In the script, three example arrays, array1, array2, and array3, are defined and added to the list arr_list. The function v_stack_array is called with this list, and the result, answer, is printed. This approach allows combining arrays with compatible dimensions into a single, vertically stacked array, useful for data organization and analysis tasks."
      ],
      "metadata": {
        "id": "mWLtvmoOPr3V"
      }
    },
    {
      "cell_type": "markdown",
      "source": [
        "question 21 =  Write a Python function using NumPy to create an array of integers within a specified range (inclusive)\n",
        "with a given step size."
      ],
      "metadata": {
        "id": "HDNRLTuo67Y1"
      }
    },
    {
      "cell_type": "code",
      "source": [
        "import numpy as np\n",
        "\n",
        "def create_integer_array(start, stop, step):\n",
        "\n",
        "\n",
        "    integer_array = np.arange(start, stop + 1, step)\n",
        "    return integer_array\n",
        "\n",
        "start_value = 10\n",
        "stop_value = 20\n",
        "step_size = 2\n",
        "\n",
        "result_array = create_integer_array(start_value, stop_value, step_size)\n",
        "print(\"Generated Array:\", result_array)"
      ],
      "metadata": {
        "colab": {
          "base_uri": "https://localhost:8080/"
        },
        "id": "9R1Yu2UG7E8a",
        "outputId": "4a04f883-3865-48a7-dee2-446c131a8cf6"
      },
      "execution_count": null,
      "outputs": [
        {
          "output_type": "stream",
          "name": "stdout",
          "text": [
            "Generated Array: [10 12 14 16 18 20]\n"
          ]
        }
      ]
    },
    {
      "cell_type": "markdown",
      "source": [
        "**Code Execution Explanation=>**\n",
        "The function create_integer_array(start, stop, step) uses NumPy's np.arange() function to generate an array of integers starting from start, up to and including stop, with a specified step size. In the script, start_value = 10, stop_value = 20, and step_size = 2 are provided as parameters to the function create_integer_array. The function calculates the array result_array using np.arange(10, 21, 2) (since stop + 1 is used to ensure stop is inclusive). The generated array contains integers from 10 to 20 (inclusive) with a step size of 2. This function is useful for creating sequences of integers within a specified range, which is common in numerical computations and data processing tasks."
      ],
      "metadata": {
        "id": "RzuV79zmP9h-"
      }
    },
    {
      "cell_type": "markdown",
      "source": [
        "question 22 =   Write a Python function using NumPy to generate an array of 10 equally spaced values between 0 and 1\n",
        "(inclusive)."
      ],
      "metadata": {
        "id": "uJXXpCeO7V2Z"
      }
    },
    {
      "cell_type": "code",
      "source": [
        "import numpy as np\n",
        "\n",
        "def generate_linear_space(start, stop, num=10):\n",
        "\n",
        "    arr=np.linspace(start,stop,num)\n",
        "    return arr\n",
        "result = generate_linear_space(0, 1)\n",
        "print(result)"
      ],
      "metadata": {
        "colab": {
          "base_uri": "https://localhost:8080/"
        },
        "id": "dbzZc1fZ7ha_",
        "outputId": "fea03324-bb23-432a-df33-e8511b5324d1"
      },
      "execution_count": null,
      "outputs": [
        {
          "output_type": "stream",
          "name": "stdout",
          "text": [
            "[0.         0.11111111 0.22222222 0.33333333 0.44444444 0.55555556\n",
            " 0.66666667 0.77777778 0.88888889 1.        ]\n"
          ]
        }
      ]
    },
    {
      "cell_type": "markdown",
      "source": [
        "**Code Execution Explanation=>**\n",
        "The function generate_linear_space(start, stop, num=10) uses NumPy's np.linspace() function to generate an array arr of num equally spaced values between start and stop, inclusive. In the script, the function is called with start = 0, stop = 1, and the default num = 10. This creates an array result containing 10 equally spaced values between 0 and 1. The print(result) statement outputs the generated array, demonstrating how np.linspace() facilitates the creation of evenly spaced sequences, which is useful for generating data points for plotting, simulation, and numerical computations."
      ],
      "metadata": {
        "id": "g1U3TTKxQhzP"
      }
    },
    {
      "cell_type": "markdown",
      "source": [
        "question 23 =   Write a Python function using NumPy to create an array of 5 logarithmically spaced values between 1 and\n",
        "1000 (inclusive)."
      ],
      "metadata": {
        "id": "XtXDb93_77dI"
      }
    },
    {
      "cell_type": "code",
      "source": [
        "import numpy as np\n",
        "\n",
        "def generate_logspace_values(start, stop, num=5):\n",
        "\n",
        "    logspace_values = np.logspace(np.log10(start), np.log10(stop), num)\n",
        "    return logspace_values\n",
        "\n",
        "result = generate_logspace_values(1, 1000)\n",
        "print(result)\n"
      ],
      "metadata": {
        "colab": {
          "base_uri": "https://localhost:8080/"
        },
        "id": "VeYTKphD7_12",
        "outputId": "194e1375-4b5c-4cf3-e2a6-c7e69be73032"
      },
      "execution_count": null,
      "outputs": [
        {
          "output_type": "stream",
          "name": "stdout",
          "text": [
            "[   1.            5.62341325   31.6227766   177.827941   1000.        ]\n"
          ]
        }
      ]
    },
    {
      "cell_type": "markdown",
      "source": [
        "**Code Execution Explanation=>**\n",
        "The function generate_logspace_values(start, stop, num=5) uses NumPy's np.logspace() function to generate an array logspace_values of num logarithmically spaced values between start and stop, inclusive. In the script, the function is called with start = 1, stop = 1000, and the default num = 5. This creates an array result containing 5 logarithmically spaced values between 1 and 1000. The np.logspace(np.log10(start), np.log10(stop), num) function call calculates logarithmically spaced values based on the logarithm base 10, ensuring an even distribution in logarithmic scale. This method is useful for generating data points that span multiple orders of magnitude, commonly used in scientific and engineering applications."
      ],
      "metadata": {
        "id": "9LaVhvXMRIfc"
      }
    },
    {
      "cell_type": "markdown",
      "source": [
        "question 24 = Create a Pandas DataFrame using a NumPy array that contains 5 rows and 3 columns, where the values\n",
        "are random integers between 1 and 100."
      ],
      "metadata": {
        "id": "C0rEMMfv8IKE"
      }
    },
    {
      "cell_type": "code",
      "source": [
        "import numpy as np\n",
        "import pandas as pd\n",
        "arr=np.random.randint(1,100+1,size=(5,3))\n",
        "df=pd.DataFrame(arr,columns=['A','B','C'])\n",
        "print(f\"array is : \\n {arr}\")\n",
        "print(f\"dataframe is : \\n {df}\")\n",
        "print(type(df))"
      ],
      "metadata": {
        "colab": {
          "base_uri": "https://localhost:8080/"
        },
        "id": "PpL60DVXD_j8",
        "outputId": "b96cbf0b-8ce2-4d27-8b92-e2ab2ad5afba"
      },
      "execution_count": null,
      "outputs": [
        {
          "output_type": "stream",
          "name": "stdout",
          "text": [
            "array is : \n",
            " [[39 40 68]\n",
            " [29 26 84]\n",
            " [94 80 12]\n",
            " [29 51 89]\n",
            " [87 40 53]]\n",
            "dataframe is : \n",
            "     A   B   C\n",
            "0  39  40  68\n",
            "1  29  26  84\n",
            "2  94  80  12\n",
            "3  29  51  89\n",
            "4  87  40  53\n",
            "<class 'pandas.core.frame.DataFrame'>\n"
          ]
        }
      ]
    },
    {
      "cell_type": "markdown",
      "source": [
        "**Code Execution Explanation=>**\n",
        "This code utilizes NumPy to generate a 5x3 array arr of random integers between 1 and 100 using np.random.randint(1, 101, size=(5, 3)). This array is then converted into a Pandas DataFrame df with columns labeled 'A', 'B', and 'C' using pd.DataFrame(arr, columns=['A', 'B', 'C']). The DataFrame structure organizes the data into rows and columns, providing a tabular representation suitable for data analysis and manipulation tasks. Both the original array arr and the resulting DataFrame df are printed to demonstrate the transformation, confirming df as a Pandas DataFrame type."
      ],
      "metadata": {
        "id": "UrdqzaoeRgrp"
      }
    },
    {
      "cell_type": "markdown",
      "source": [
        "question 25 =   Write a function that takes a Pandas DataFrame and replaces all negative values in a specific column\n",
        "with zeros. Use NumPy operations within the Pandas DataFrame."
      ],
      "metadata": {
        "id": "zTXscc1aEIOh"
      }
    },
    {
      "cell_type": "code",
      "source": [
        "import pandas as pd\n",
        "import numpy as np\n",
        "\n",
        "def replace_negatives_with_zeros(df, column_name):\n",
        "\n",
        "    df[column_name] = np.where(df[column_name] < 0, 0, df[column_name])\n",
        "    return df\n",
        "\n",
        "data = {'A': [11, -12, 13, -14, 15], 'B': [-100, 200, -300, 400, -500]}\n",
        "df = pd.DataFrame(data)\n",
        "\n",
        "print(\"Original DataFrame:\")\n",
        "print(df)\n",
        "df = replace_negatives_with_zeros(df, 'A')\n",
        "\n",
        "print(\"Modified DataFrame:\")\n",
        "print(df)"
      ],
      "metadata": {
        "colab": {
          "base_uri": "https://localhost:8080/"
        },
        "id": "to1a8g4kEQgt",
        "outputId": "ae4964e5-5e2c-4eaf-a737-297a425213b8"
      },
      "execution_count": null,
      "outputs": [
        {
          "output_type": "stream",
          "name": "stdout",
          "text": [
            "Original DataFrame:\n",
            "    A    B\n",
            "0  11 -100\n",
            "1 -12  200\n",
            "2  13 -300\n",
            "3 -14  400\n",
            "4  15 -500\n",
            "Modified DataFrame:\n",
            "    A    B\n",
            "0  11 -100\n",
            "1   0  200\n",
            "2  13 -300\n",
            "3   0  400\n",
            "4  15 -500\n"
          ]
        }
      ]
    },
    {
      "cell_type": "markdown",
      "source": [
        "**Code Execution Explanation=>**\n",
        "The function replace_negatives_with_zeros(df, column_name) takes a Pandas DataFrame df and a specific column_name as input. It uses NumPy's np.where() function to replace all negative values in the column specified by column_name with zeros (0). In the script, a sample dictionary data is used to create a Pandas DataFrame df with columns 'A' and 'B', containing both positive and negative integers. The original DataFrame df is printed, showcasing its initial state. The function replace_negatives_with_zeros() is then applied to modify the 'A' column of df, replacing negative values with zeros. The resulting modified DataFrame df is printed again to demonstrate the transformation, effectively replacing negatives with zeros using NumPy operations within the Pandas DataFrame."
      ],
      "metadata": {
        "id": "FDXZ-FFGT1Fo"
      }
    },
    {
      "cell_type": "markdown",
      "source": [
        "question 26 = Access the 3rd element from the given NumPy array.\n",
        " arr = np.array([10, 20, 30, 40, 50])"
      ],
      "metadata": {
        "id": "KQ7s_Oc7EkhT"
      }
    },
    {
      "cell_type": "code",
      "source": [
        "import numpy as np\n",
        "arr = np.array([10, 20, 30, 40, 50])\n",
        "print(\"Original array: \", arr)\n",
        "print(\"3rd element: \", arr[2])"
      ],
      "metadata": {
        "colab": {
          "base_uri": "https://localhost:8080/"
        },
        "id": "xVH-DLQEEoui",
        "outputId": "6a41c079-59c0-43d5-af95-ce2f9eb6b8bc"
      },
      "execution_count": null,
      "outputs": [
        {
          "output_type": "stream",
          "name": "stdout",
          "text": [
            "Original array:  [10 20 30 40 50]\n",
            "3rd element:  30\n"
          ]
        }
      ]
    },
    {
      "cell_type": "markdown",
      "source": [
        "**Code Execution Explanation=>**\n",
        "The NumPy array arr is defined as np.array([10, 20, 30, 40, 50]). The script first prints the original array using print(\"Original array: \", arr). Then, it accesses and prints the 3rd element (index 2) of the array using print(\"3rd element: \", arr[2]). This demonstrates basic indexing in NumPy, where array elements can be accessed directly by specifying their index within square brackets. In this case, arr[2] retrieves and displays the value 30, which is the 3rd element in the array arr."
      ],
      "metadata": {
        "id": "06oPHAX8UF_u"
      }
    },
    {
      "cell_type": "markdown",
      "source": [
        "question 27 =  Retrieve the element at index (1, 2) from the 2D NumPy array.\n",
        " arr_2d = np.array([[1, 2, 3],\n",
        " [4, 5, 6],\n",
        " [7, 8, 9]])"
      ],
      "metadata": {
        "id": "QkW_Pd_CE05c"
      }
    },
    {
      "cell_type": "code",
      "source": [
        "import numpy as np\n",
        "arr_2d = np.array([[1, 2, 3],\n",
        "                   [4, 5, 6],\n",
        "                   [7, 8, 9]])\n",
        "\n",
        "element = arr_2d[1, 2]\n",
        "print(element)"
      ],
      "metadata": {
        "colab": {
          "base_uri": "https://localhost:8080/"
        },
        "id": "zU3qA6tUFf85",
        "outputId": "952cbb89-43d4-4544-9573-56a417f7537c"
      },
      "execution_count": null,
      "outputs": [
        {
          "output_type": "stream",
          "name": "stdout",
          "text": [
            "6\n"
          ]
        }
      ]
    },
    {
      "cell_type": "markdown",
      "source": [
        "**Code Execution Explanation=>**\n",
        "The 2D NumPy array arr_2d is defined as np.array([[1, 2, 3], [4, 5, 6], [7, 8, 9]]). The script retrieves and prints the element located at row index 1 and column index 2 using element = arr_2d[1, 2]. In NumPy indexing for 2D arrays, the first index corresponds to the row and the second index corresponds to the column. Therefore, arr_2d[1, 2] accesses and prints the element 6, which is located in the second row (index 1) and third column (index 2) of the array arr_2d."
      ],
      "metadata": {
        "id": "XxDJd-ScUVMo"
      }
    },
    {
      "cell_type": "markdown",
      "source": [
        "question 28 = . Using boolean indexing, extract elements greater than 5 from the given NumPy array.\n",
        " arr = np.array([3, 8, 2, 10, 5, 7])"
      ],
      "metadata": {
        "id": "v-UeuI0bFweU"
      }
    },
    {
      "cell_type": "code",
      "source": [
        "import numpy as np\n",
        "\n",
        "arr = np.array([3, 8, 2, 10, 5, 7])\n",
        "m = arr > 5\n",
        "print(arr)\n",
        "result = arr[m]\n",
        "print(result)"
      ],
      "metadata": {
        "colab": {
          "base_uri": "https://localhost:8080/"
        },
        "id": "HTlHqdX2F12y",
        "outputId": "15911a2f-f80c-47d4-9276-592f71aa8418"
      },
      "execution_count": null,
      "outputs": [
        {
          "output_type": "stream",
          "name": "stdout",
          "text": [
            "[ 3  8  2 10  5  7]\n",
            "[ 8 10  7]\n"
          ]
        }
      ]
    },
    {
      "cell_type": "markdown",
      "source": [
        "**Code Execution Explanation=>**\n",
        "The NumPy array arr is initialized with values [3, 8, 2, 10, 5, 7]. Boolean indexing is employed by creating a mask m where each element is True if the corresponding element in arr is greater than 5, and False otherwise (m = arr > 5). The original array arr is then printed. Subsequently, elements from arr that satisfy the condition (values greater than 5) are extracted using the boolean mask m, stored in result (result = arr[m]), and printed. This demonstrates how boolean indexing efficiently filters elements in NumPy arrays based on specified conditions."
      ],
      "metadata": {
        "id": "Rr2t6g4wUxvn"
      }
    },
    {
      "cell_type": "markdown",
      "source": [
        "question 29 = Perform basic slicing to extract elements from index 2 to 5 (inclusive) from the given NumPy array.\n",
        " arr = np.array([1, 2, 3, 4, 5, 6, 7, 8, 9])"
      ],
      "metadata": {
        "id": "ZLvFFzxSF-Cq"
      }
    },
    {
      "cell_type": "code",
      "source": [
        "import numpy as np\n",
        "\n",
        "arr=np.array([1,2,3,4,5,6,7,8,9])\n",
        "ans=arr[1:5] # based on 1 index counting\n",
        "print(ans )\n",
        "\n",
        "an=arr[2:6] #based on 0th index counting\n",
        "print(an)"
      ],
      "metadata": {
        "colab": {
          "base_uri": "https://localhost:8080/"
        },
        "id": "ApYZ0fXSGGDf",
        "outputId": "a5fad113-bced-4540-8ec6-49bd9e1d3935"
      },
      "execution_count": null,
      "outputs": [
        {
          "output_type": "stream",
          "name": "stdout",
          "text": [
            "[2 3 4 5]\n",
            "[3 4 5 6]\n"
          ]
        }
      ]
    },
    {
      "cell_type": "markdown",
      "source": [
        "**Code Execution Explanation=>**\n",
        "The code demonstrates basic slicing operations on a NumPy array arr, which contains elements [1, 2, 3, 4, 5, 6, 7, 8, 9]. Using Python's slicing notation, arr[1:5] retrieves elements from index 1 to index 4 (inclusive), resulting in [2, 3, 4, 5]. Similarly, arr[2:6] extracts elements from index 2 to index 5 (inclusive), yielding [3, 4, 5, 6]. This method efficiently selects specific segments of an array based on their indices, adhering to Python's zero-based indexing convention where the start index is inclusive and the end index is exclusive.\n",
        "\n",
        "\n",
        "\n",
        "\n",
        "\n"
      ],
      "metadata": {
        "id": "r5bW2z-BVLd7"
      }
    },
    {
      "cell_type": "markdown",
      "source": [
        "question 30 = Slice the 2D NumPy array to extract the sub-array `[[2, 3], [5, 6]]` from the given array.\n",
        " arr_2d = np.array([[1, 2, 3],\n",
        " [4, 5, 6],\n",
        " [7, 8, 9]])\n"
      ],
      "metadata": {
        "id": "pz29VXbKGdAo"
      }
    },
    {
      "cell_type": "code",
      "source": [
        "import numpy as np\n",
        "arr_2d = np.array([[1, 2, 3],\n",
        "                   [4, 5, 6],\n",
        "                   [7, 8, 9]])\n",
        "\n",
        "sub_array = arr_2d[0:2, 1:3]\n",
        "print(sub_array)"
      ],
      "metadata": {
        "colab": {
          "base_uri": "https://localhost:8080/"
        },
        "id": "Yv3PmvG9Gq8-",
        "outputId": "401d584d-5ed8-4df1-af57-4ae6c31815d6"
      },
      "execution_count": null,
      "outputs": [
        {
          "output_type": "stream",
          "name": "stdout",
          "text": [
            "[[2 3]\n",
            " [5 6]]\n"
          ]
        }
      ]
    },
    {
      "cell_type": "markdown",
      "source": [
        "**Code Execution Explanation=>**\n",
        "The code demonstrates slicing operations on a 2D NumPy array arr_2d to extract the sub-array [[2, 3], [5, 6]]. Using slicing notation arr_2d[0:2, 1:3], it selects rows from index 0 to 1 (inclusive) and columns from index 1 to 2 (exclusive). This results in the sub-array [[2, 3], [5, 6]]. The slicing operation efficiently retrieves specific portions of the array based on their row and column indices, adhering to Python's zero-based indexing convention where the start index is inclusive and the end index is exclusive."
      ],
      "metadata": {
        "id": "_QNTJM67XKuR"
      }
    },
    {
      "cell_type": "markdown",
      "source": [
        "question 31 = Write a NumPy function to extract elements in specific order from a given 2D array based on indices\n",
        "provided in another array."
      ],
      "metadata": {
        "id": "3yMHwKvlHDCz"
      }
    },
    {
      "cell_type": "code",
      "source": [
        "import numpy as np\n",
        "\n",
        "def extract_elements_by_indices(arr_2d, indices):\n",
        "    row_indices = indices[:, 0]\n",
        "    col_indices = indices[:, 1]\n",
        "    extracted_elements = arr_2d[row_indices, col_indices]\n",
        "\n",
        "    return extracted_elements\n",
        "\n",
        "arr_2d = np.array([[1, 2, 3],\n",
        "                   [4, 5, 6],\n",
        "                   [7, 8, 9]])\n",
        "\n",
        "# Indices to extract elements from (row, column)\n",
        "indices = np.array([[0, 2],\n",
        "                    [1, 0],\n",
        "                    [2, 1]])\n",
        "result = extract_elements_by_indices(arr_2d, indices)\n",
        "print(\"Original Array:\")\n",
        "print(arr_2d)\n",
        "print(\"\\nIndices:\")\n",
        "print(indices)\n",
        "print(\"\\nExtracted Elements:\")\n",
        "print(result)\n"
      ],
      "metadata": {
        "colab": {
          "base_uri": "https://localhost:8080/"
        },
        "id": "KgGsQ0TbHUaK",
        "outputId": "cac78d96-7807-4c5f-b323-91e31d18edfe"
      },
      "execution_count": null,
      "outputs": [
        {
          "output_type": "stream",
          "name": "stdout",
          "text": [
            "Original Array:\n",
            "[[1 2 3]\n",
            " [4 5 6]\n",
            " [7 8 9]]\n",
            "\n",
            "Indices:\n",
            "[[0 2]\n",
            " [1 0]\n",
            " [2 1]]\n",
            "\n",
            "Extracted Elements:\n",
            "[3 4 8]\n"
          ]
        }
      ]
    },
    {
      "cell_type": "markdown",
      "source": [
        "**Code Execution Explanation=>**\n",
        "Explanation: The code defines a function extract_elements_by_indices that takes a 2D NumPy array arr_2d and an array of indices indices as input. It first extracts row indices (indices[:, 0]) and column indices (indices[:, 1]) from the indices array. Then, using these indices, it retrieves elements from arr_2d based on the specified row and column indices (arr_2d[row_indices, col_indices]). The result demonstrates extracting elements [3, 4, 8] from arr_2d at positions (0, 2), (1, 0), and (2, 1) respectively. This function enables selective extraction of elements from a 2D array based on custom index pairs provided in another array, facilitating flexible data manipulation in NumPy.\n"
      ],
      "metadata": {
        "id": "dvGI4f0UXW3-"
      }
    },
    {
      "cell_type": "markdown",
      "source": [
        "question 32 = . Create a NumPy function that filters elements greater than a threshold from a given 1D array using\n",
        "boolean indexing."
      ],
      "metadata": {
        "id": "H7AN9yzxHetT"
      }
    },
    {
      "cell_type": "code",
      "source": [
        "import numpy as np\n",
        "\n",
        "def filter_greater_than_threshold(arr, threshold):\n",
        "    bolean_index = arr > threshold\n",
        "    filtered_array = arr[bolean_index]\n",
        "    return filtered_array\n",
        "\n",
        "arr = np.array([100, 800, 200, 100, 500, 700,900,600])\n",
        "threshold = 500\n",
        "result = filter_greater_than_threshold(arr, threshold)\n",
        "print(\"Original array:\", arr)\n",
        "print(f\"Filtered array (elements greater than threshold {threshold}: {result}\")"
      ],
      "metadata": {
        "colab": {
          "base_uri": "https://localhost:8080/"
        },
        "id": "vmYi-UtPHkVy",
        "outputId": "57b8bd92-bc06-4547-df46-4180196f2847"
      },
      "execution_count": null,
      "outputs": [
        {
          "output_type": "stream",
          "name": "stdout",
          "text": [
            "Original array: [100 800 200 100 500 700 900 600]\n",
            "Filtered array (elements greater than threshold 500: [800 700 900 600]\n"
          ]
        }
      ]
    },
    {
      "cell_type": "markdown",
      "source": [
        "\n",
        "**Code Execution Explanation=>**\n",
        "The code defines a function filter_greater_than_threshold that takes a NumPy array arr and a threshold value as input. It first creates a boolean mask boolean_index where each element in arr is compared against the threshold using arr > threshold. Then, it applies this mask to arr to filter out elements greater than threshold, producing filtered_array. The result demonstrates filtering elements greater than 500 from the original array [100, 800, 200, 100, 500, 700, 900, 600], resulting in [800, 700, 900, 600]. This function leverages NumPy's efficient boolean indexing to selectively extract elements based on a condition, facilitating straightforward data filtering operations."
      ],
      "metadata": {
        "id": "jMmYMTMvZ6n9"
      }
    },
    {
      "cell_type": "markdown",
      "source": [
        "question 33 =  Develop a NumPy function that extracts specific elements from a 3D array using indices provided in three\n",
        "separate arrays for each dimension."
      ],
      "metadata": {
        "id": "sOFFDvBWIYyL"
      }
    },
    {
      "cell_type": "code",
      "source": [
        "import numpy as np\n",
        "\n",
        "def extract_elements_3d(arr_3d, index_0, index_1, index_2):\n",
        "    extracted_elements = arr_3d[index_0, index_1, index_2]\n",
        "    return extracted_elements\n",
        "\n",
        "arr_3d = np.array([[[ 1,  2,  3,  4],\n",
        "                    [ 5,  6,  7,  8],\n",
        "                    [ 9, 10, 11, 12]],\n",
        "\n",
        "                   [[13, 14, 15, 16],\n",
        "                    [17, 18, 19, 20],\n",
        "                    [21, 22, 23, 24]]])\n",
        "\n",
        "index_0 = np.array([0, 1, 1])\n",
        "index_1 = np.array([1, 2, 0])\n",
        "index_2 = np.array([2, 3, 1])\n",
        "result = extract_elements_3d(arr_3d, index_0, index_1, index_2)\n",
        "print(\"Extracted elements:\", result)\n"
      ],
      "metadata": {
        "colab": {
          "base_uri": "https://localhost:8080/"
        },
        "id": "jd2k-MnNIiC0",
        "outputId": "209b639c-1c2b-4f4b-9842-d393d459fc50"
      },
      "execution_count": null,
      "outputs": [
        {
          "output_type": "stream",
          "name": "stdout",
          "text": [
            "Extracted elements: [ 7 24 14]\n"
          ]
        }
      ]
    },
    {
      "cell_type": "markdown",
      "source": [
        "\n",
        "**Code Execution Explanation=>**\n"
      ],
      "metadata": {
        "id": "9L4YcN1Za2fy"
      }
    },
    {
      "cell_type": "markdown",
      "source": [
        "\n",
        "**Code Execution Explanation=>**\n",
        "This code defines a function extract_elements_3d that takes a 3D NumPy array arr_3d and three separate arrays index_0, index_1, and index_2 representing indices for each dimension. It retrieves elements from arr_3d based on these indices using array indexing (arr_3d[index_0, index_1, index_2]). In the example provided, it extracts elements at positions (0, 1, 2), (1, 2, 3), and (1, 0, 1) from the arr_3d array, resulting in [7 24 17]. This function showcases how to access specific elements from a multidimensional array using index arrays, enabling targeted extraction of data from complex structures."
      ],
      "metadata": {
        "id": "SREu26P1acBr"
      }
    },
    {
      "cell_type": "markdown",
      "source": [
        "question 34 = Write a NumPy function that returns elements from an array where both two conditions are satisfied\n",
        "using boolean indexing"
      ],
      "metadata": {
        "id": "4CvDY7tWIvI1"
      }
    },
    {
      "cell_type": "code",
      "source": [
        "import numpy as np\n",
        "\n",
        "def filter_elements_by_conditions(arr):\n",
        "    boolean_index = (arr > 10) & (arr < 50)\n",
        "    filtered_elements = arr[boolean_index]\n",
        "\n",
        "    return filtered_elements\n",
        "\n",
        "array = np.array([5, 12, 17, 23, 35, 50, 75, 100])\n",
        "result = filter_elements_by_conditions(array)\n",
        "\n",
        "print(\"Original array:\", array)\n",
        "print(\"Filtered elements:\", result)"
      ],
      "metadata": {
        "colab": {
          "base_uri": "https://localhost:8080/"
        },
        "id": "86ILRP-zIza2",
        "outputId": "202a8bcf-f819-4114-973e-4769900e52f9"
      },
      "execution_count": null,
      "outputs": [
        {
          "output_type": "stream",
          "name": "stdout",
          "text": [
            "Original array: [  5  12  17  23  35  50  75 100]\n",
            "Filtered elements: [12 17 23 35]\n"
          ]
        }
      ]
    },
    {
      "cell_type": "markdown",
      "source": [
        "\n",
        "**Code Execution Explanation=>**\n",
        "This code defines a function filter_elements_by_conditions that takes a NumPy array arr as input and filters elements based on two conditions using boolean indexing. The conditions (arr > 10) & (arr < 50) create a boolean mask where elements in arr must satisfy both conditions simultaneously. The function then applies this mask to arr to extract elements that are greater than 10 and less than 50. In the provided example, it filters elements from the array [5, 12, 17, 23, 35, 50, 75, 100], resulting in [12, 17, 23, 35]. This function showcases how to use boolean indexing to perform conditional filtering efficiently in NumPy, allowing for selective extraction of elements based on multiple criteria."
      ],
      "metadata": {
        "id": "IeGsB-BHbFYl"
      }
    },
    {
      "cell_type": "markdown",
      "source": [
        "question 35 =  Create a NumPy function that extracts elements from a 2D array using row and column indices provided\n",
        "in separate arrays."
      ],
      "metadata": {
        "id": "q32y_gTbI-Vw"
      }
    },
    {
      "cell_type": "code",
      "source": [
        "import numpy as np\n",
        "\n",
        "def extract_elements(arr_2d, row_indices, col_indices):\n",
        "    row_indices = np.array(row_indices)\n",
        "    col_indices = np.array(col_indices)\n",
        "    extracted_elements = arr_2d[row_indices, col_indices]\n",
        "\n",
        "    return extracted_elements\n",
        "\n",
        "arr_2d = np.array([[10, 20, 30],\n",
        "                   [40, 50, 60],\n",
        "                   [70, 80, 90]])\n",
        "row_indices = [0, 1, 2]\n",
        "col_indices = [1, 2, 0]\n",
        "result = extract_elements(arr_2d, row_indices, col_indices)\n",
        "print(\"2D Array:\")\n",
        "print(arr_2d)\n",
        "print(\"\\nRow indices:\", row_indices)\n",
        "print(\"Column indices:\", col_indices)\n",
        "print(\"\\nExtracted elements:\", result)"
      ],
      "metadata": {
        "colab": {
          "base_uri": "https://localhost:8080/"
        },
        "id": "R7dLm5w6JCvK",
        "outputId": "68af2264-eded-4a0b-8100-881273a1310d"
      },
      "execution_count": null,
      "outputs": [
        {
          "output_type": "stream",
          "name": "stdout",
          "text": [
            "2D Array:\n",
            "[[10 20 30]\n",
            " [40 50 60]\n",
            " [70 80 90]]\n",
            "\n",
            "Row indices: [0, 1, 2]\n",
            "Column indices: [1, 2, 0]\n",
            "\n",
            "Extracted elements: [20 60 70]\n"
          ]
        }
      ]
    },
    {
      "cell_type": "markdown",
      "source": [
        "\n",
        "**Code Execution Explanation=>**\n",
        "This code defines a function extract_elements that takes a 2D NumPy array arr_2d, row indices row_indices, and column indices col_indices as inputs. It converts the indices into NumPy arrays (row_indices and col_indices) for consistency and then uses them to extract elements from arr_2d. The extracted elements correspond to the positions specified by the row and column indices. In the example, it extracts elements [20, 60, 70] from the array [[10, 20, 30], [40, 50, 60], [70, 80, 90]], where row indices [0, 1, 2] and column indices [1, 2, 0] are provided. This function demonstrates how to efficiently retrieve specific elements from a 2D array using indices provided in separate arrays.\n",
        "\n",
        "\n",
        "\n",
        "\n",
        "\n"
      ],
      "metadata": {
        "id": "Gxvzt9M1bane"
      }
    },
    {
      "cell_type": "markdown",
      "source": [
        "question 36 =  Given an array arr of shape (3, 3), add a scalar value of 5 to each element using NumPy broadcasting."
      ],
      "metadata": {
        "id": "ozMvJSFrJfCk"
      }
    },
    {
      "cell_type": "code",
      "source": [
        "import numpy as np\n",
        "\n",
        "def add_scalar(arr, scalar):\n",
        "\n",
        "    return arr + scalar\n",
        "\n",
        "arr = np.array([[1, 2, 3],\n",
        "                [4, 5, 6],\n",
        "                [7, 8, 9]])\n",
        "scalar = 5\n",
        "result = add_scalar(arr, scalar)\n",
        "print(\"Original array:\")\n",
        "print(arr)\n",
        "print(\"\\nArray after adding 5 to each element:\")\n",
        "print(result)"
      ],
      "metadata": {
        "colab": {
          "base_uri": "https://localhost:8080/"
        },
        "id": "ULZoJ1u-JpCb",
        "outputId": "cc8d6c81-e880-437d-d48f-539226454521"
      },
      "execution_count": null,
      "outputs": [
        {
          "output_type": "stream",
          "name": "stdout",
          "text": [
            "Original array:\n",
            "[[1 2 3]\n",
            " [4 5 6]\n",
            " [7 8 9]]\n",
            "\n",
            "Array after adding 5 to each element:\n",
            "[[ 6  7  8]\n",
            " [ 9 10 11]\n",
            " [12 13 14]]\n"
          ]
        }
      ]
    },
    {
      "cell_type": "markdown",
      "source": [
        "\n",
        "**Code Execution Explanation=>**\n",
        "This code defines a function add_scalar that uses NumPy broadcasting to add a scalar value of 5 to each element in a 3x3 NumPy array arr. The function takes arr and scalar as inputs, where arr represents the original array and scalar is the value to be added to each element. By employing arr + scalar, NumPy efficiently broadcasts the scalar value across all elements of arr, performing element-wise addition. The original array arr is displayed first to show its initial state, followed by the modified array result that demonstrates the effect of adding 5 to each element using broadcasting."
      ],
      "metadata": {
        "id": "2wpPS8XkcbZ_"
      }
    },
    {
      "cell_type": "markdown",
      "source": [
        "question 37 = Consider two arrays arr1 of shape (1, 3) and arr2 of shape (3, 4). Multiply each row of arr2 by the\n",
        "corresponding element in arr1 using NumPy broadcasting."
      ],
      "metadata": {
        "id": "4SOzkK-6J-QA"
      }
    },
    {
      "cell_type": "code",
      "source": [
        "import numpy as np\n",
        "\n",
        "arr1 = np.array([[2, 3, 4]])\n",
        "arr2 = np.array([[1, 2, 3, 4],\n",
        "                 [5, 6, 7, 8],\n",
        "                 [9, 10, 11, 12]])\n",
        "\n",
        "result = arr2 * arr1.T\n",
        "print(\"Array 1:\")\n",
        "print(arr1)\n",
        "print(\"\\nArray 2:\")\n",
        "print(arr2)\n",
        "print(\"\\nResult of broadcasting multiplication:\")\n",
        "print(result)"
      ],
      "metadata": {
        "colab": {
          "base_uri": "https://localhost:8080/"
        },
        "id": "QLgvTugFKObI",
        "outputId": "7c2c9535-8156-43b5-a490-287baf6d0def"
      },
      "execution_count": null,
      "outputs": [
        {
          "output_type": "stream",
          "name": "stdout",
          "text": [
            "Array 1:\n",
            "[[2 3 4]]\n",
            "\n",
            "Array 2:\n",
            "[[ 1  2  3  4]\n",
            " [ 5  6  7  8]\n",
            " [ 9 10 11 12]]\n",
            "\n",
            "Result of broadcasting multiplication:\n",
            "[[ 2  4  6  8]\n",
            " [15 18 21 24]\n",
            " [36 40 44 48]]\n"
          ]
        }
      ]
    },
    {
      "cell_type": "markdown",
      "source": [
        "\n",
        "**Code Execution Explanation=>**\n",
        "This code demonstrates NumPy broadcasting by multiplying each row of arr2 with the corresponding element from arr1. It first defines arr1 with shape (1, 3) and arr2 with shape (3, 4). Using arr1.T ensures arr1 aligns correctly for broadcasting, multiplying each row of arr2 by [2, 3, 4], resulting in the result array with the same shape as arr2. The final output shows the original arrays arr1 and arr2, followed by the result of the broadcasting multiplication."
      ],
      "metadata": {
        "id": "8qHZFAu4fEVT"
      }
    },
    {
      "cell_type": "markdown",
      "source": [
        "question 38 =  Given a 1D array arr1 of shape (1, 4) and a 2D array arr2 of shape (4, 3), add arr1 to each row of arr2 using\n",
        "NumPy broadcasting."
      ],
      "metadata": {
        "id": "LpBLkleTKcYl"
      }
    },
    {
      "cell_type": "code",
      "source": [
        "import numpy as np\n",
        "\n",
        "arr1 = np.array([1, 2, 3, 4])  # Shape (1, 4)\n",
        "arr2 = np.array([[10, 20, 30],\n",
        "                 [40, 50, 60],\n",
        "                 [70, 80, 90],\n",
        "                 [100, 110, 120]])  # Shape (4, 3)\n",
        "\n",
        "arr1_reshaped = arr1.reshape(4, 1)\n",
        "result = arr2 + arr1_reshaped\n",
        "print(\"arr1 reshaped:\\n\", arr1_reshaped)\n",
        "print(\"arr2:\\n\", arr2)\n",
        "print(\"Result of adding arr1 to each row of arr2:\\n\", result)\n"
      ],
      "metadata": {
        "colab": {
          "base_uri": "https://localhost:8080/"
        },
        "id": "mTymE01xKuWn",
        "outputId": "efc25ab3-f524-4e3f-c8f0-619d90d31ab7"
      },
      "execution_count": null,
      "outputs": [
        {
          "output_type": "stream",
          "name": "stdout",
          "text": [
            "arr1 reshaped:\n",
            " [[1]\n",
            " [2]\n",
            " [3]\n",
            " [4]]\n",
            "arr2:\n",
            " [[ 10  20  30]\n",
            " [ 40  50  60]\n",
            " [ 70  80  90]\n",
            " [100 110 120]]\n",
            "Result of adding arr1 to each row of arr2:\n",
            " [[ 11  21  31]\n",
            " [ 42  52  62]\n",
            " [ 73  83  93]\n",
            " [104 114 124]]\n"
          ]
        }
      ]
    },
    {
      "cell_type": "markdown",
      "source": [
        "**Code Execution Explanation=>**\n",
        "This code illustrates NumPy broadcasting by adding arr1 to each row of arr2. Initially, arr1 is reshaped using arr1.reshape(4, 1) to match the dimensions of arr2 for broadcasting. arr1 starts as a 1D array of shape (4,), and after reshaping, it becomes a column vector of shape (4, 1). This allows each element of arr1 to be added to each corresponding row of arr2 independently. The final output displays the reshaped arr1, the original arr2, and the result of the broadcasting addition."
      ],
      "metadata": {
        "id": "yz9PuCwsf6XS"
      }
    },
    {
      "cell_type": "markdown",
      "source": [
        "question 39 =  Consider two arrays arr1 of shape (3, 1) and arr2 of shape (1, 3). Add these arrays using NumPy\n",
        "broadcasting."
      ],
      "metadata": {
        "id": "ab9Ujoo6LiX_"
      }
    },
    {
      "cell_type": "code",
      "source": [
        "import numpy as np\n",
        "\n",
        "arr1 = np.array([[1], [2], [3]])  # Shape (3, 1)\n",
        "arr2 = np.array([[10, 20, 30]])   # Shape (1, 3)\n",
        "result = arr1 + arr2\n",
        "print(\"arr1:\\n\", arr1)\n",
        "print(\"arr2:\\n\", arr2)\n",
        "print(\"Result of addition:\\n\", result)"
      ],
      "metadata": {
        "colab": {
          "base_uri": "https://localhost:8080/"
        },
        "id": "ozIHg2vxLmv9",
        "outputId": "220bf834-3993-4a70-b63c-f20bf9110881"
      },
      "execution_count": null,
      "outputs": [
        {
          "output_type": "stream",
          "name": "stdout",
          "text": [
            "arr1:\n",
            " [[1]\n",
            " [2]\n",
            " [3]]\n",
            "arr2:\n",
            " [[10 20 30]]\n",
            "Result of addition:\n",
            " [[11 21 31]\n",
            " [12 22 32]\n",
            " [13 23 33]]\n"
          ]
        }
      ]
    },
    {
      "cell_type": "markdown",
      "source": [
        "**Code Execution Explanation=>**\n",
        "This code demonstrates NumPy broadcasting by adding arr1 and arr2. Both arrays have different shapes: arr1 is of shape (3, 1) and arr2 is of shape (1, 3). Despite their shapes being different, broadcasting allows operations to be performed element-wise. In this case, arr1 and arr2 are broadcasted such that each element in arr1 is added to each element in arr2, resulting in a (3, 3) array result. The output displays arr1, arr2, and the resultant array result after broadcasting addition."
      ],
      "metadata": {
        "id": "bvPpildrg684"
      }
    },
    {
      "cell_type": "markdown",
      "source": [
        "question 40 = Given arrays arr1 of shape (2, 3) and arr2 of shape (2, 2), perform multiplication using NumPy\n",
        "broadcasting. Handle the shape incompatibility."
      ],
      "metadata": {
        "id": "Htj5hFkWLxsQ"
      }
    },
    {
      "cell_type": "code",
      "source": [
        "import numpy as np\n",
        "\n",
        "arr1 = np.array([[1, 2, 3],\n",
        "                 [4, 5, 6]])\n",
        "arr2 = np.array([[10, 20],\n",
        "                 [30, 40]])\n",
        "arr2_reshaped = arr2[:, :, np.newaxis]\n",
        "result = arr1 * arr2_reshaped\n",
        "print(\"Result after multiplication using broadcasting:\\n\", result)\n"
      ],
      "metadata": {
        "colab": {
          "base_uri": "https://localhost:8080/"
        },
        "id": "4iY1-NvKL-pW",
        "outputId": "312fec8a-246b-4474-e438-1b5f1c94e189"
      },
      "execution_count": null,
      "outputs": [
        {
          "output_type": "stream",
          "name": "stdout",
          "text": [
            "Result after multiplication using broadcasting:\n",
            " [[[ 10  20  30]\n",
            "  [ 80 100 120]]\n",
            "\n",
            " [[ 30  60  90]\n",
            "  [160 200 240]]]\n"
          ]
        }
      ]
    },
    {
      "cell_type": "markdown",
      "source": [
        "**Code Execution Explanation=>**\n",
        "This code utilizes NumPy broadcasting to perform multiplication between arr1 and arr2. Initially, arr1 has a shape of (2, 3) and arr2 has a shape of (2, 2), which are incompatible for direct multiplication. To handle this, arr2 is reshaped using np.newaxis to introduce a new axis, transforming its shape to (2, 2, 1). This allows broadcasting to align dimensions for element-wise multiplication with arr1, resulting in a (2, 2, 3) array result. The output displays the result after broadcasting multiplication between arr1 and arr2_reshaped."
      ],
      "metadata": {
        "id": "kkEtJ994hKx8"
      }
    },
    {
      "cell_type": "markdown",
      "source": [
        "question 41 =  Calculate column-wise mean for the given array:\n",
        " arr = np.array([[1, 2, 3], [4, 5, 6]])"
      ],
      "metadata": {
        "id": "jeZhZgVROQps"
      }
    },
    {
      "cell_type": "code",
      "source": [
        "import numpy as np\n",
        "\n",
        "arr = np.array([[1, 2, 3], [4, 5, 6]])\n",
        "column_means = np.mean(arr, axis=0)\n",
        "print(\"Column-wise means:\", column_means)"
      ],
      "metadata": {
        "colab": {
          "base_uri": "https://localhost:8080/"
        },
        "id": "MJZHx6JtOjsF",
        "outputId": "b714e77b-5181-4f39-a1c6-ef4a2d8eb2b1"
      },
      "execution_count": null,
      "outputs": [
        {
          "output_type": "stream",
          "name": "stdout",
          "text": [
            "Column-wise means: [2.5 3.5 4.5]\n"
          ]
        }
      ]
    },
    {
      "cell_type": "markdown",
      "source": [
        "**Code Execution Explanation=>**\n",
        "This code calculates the column-wise mean for the given NumPy array arr, which has a shape of (2, 3). Using np.mean(arr, axis=0), it computes the mean along axis 0 (columns), resulting in an array column_means containing the mean values of each column. The output then prints these column-wise mean values using print(\"Column-wise means:\", column_means). This approach efficiently computes and displays the mean values for each column in the array arr.\n",
        "\n",
        "\n",
        "\n",
        "\n",
        "\n"
      ],
      "metadata": {
        "id": "izxCJ3FWhrXK"
      }
    },
    {
      "cell_type": "markdown",
      "source": [
        "question 42 =  Find maximum value in each row of the given array:\n",
        " arr = np.array([[1, 2, 3], [4, 5, 6]])"
      ],
      "metadata": {
        "id": "l8gj-bXQOt3_"
      }
    },
    {
      "cell_type": "code",
      "source": [
        "import numpy as np\n",
        "\n",
        "arr = np.array([[1, 2, 3], [4, 5, 6]])\n",
        "max_values = np.max(arr, axis=1)\n",
        "print(\"Maximum value in each row:\", max_values)"
      ],
      "metadata": {
        "colab": {
          "base_uri": "https://localhost:8080/"
        },
        "id": "utwk0k4UOzil",
        "outputId": "91ada4fb-7f8a-4b5f-d16a-ab7f85642f3a"
      },
      "execution_count": null,
      "outputs": [
        {
          "output_type": "stream",
          "name": "stdout",
          "text": [
            "Maximum value in each row: [3 6]\n"
          ]
        }
      ]
    },
    {
      "cell_type": "markdown",
      "source": [
        "**Code Execution Explanation=>**\n",
        "This code snippet calculates the maximum value in each row of the given NumPy array arr, which has a shape of (2, 3). Using np.max(arr, axis=1), it computes the maximum along axis 1 (rows), resulting in an array max_values that contains the maximum value of each row. The output then prints these maximum values for each row using print(\"Maximum value in each row:\", max_values). This approach effectively finds and displays the maximum value in each row of the array arr."
      ],
      "metadata": {
        "id": "RJaG4yCTjFOX"
      }
    },
    {
      "cell_type": "markdown",
      "source": [
        "question 43 = For the given array, find indices of maximum value in each column.\n",
        " arr = np.array([[1, 2, 3], [4, 5, 6]])"
      ],
      "metadata": {
        "id": "4oYzVEVTO_ML"
      }
    },
    {
      "cell_type": "code",
      "source": [
        "import numpy as np\n",
        "arr = np.array([[1, 2, 3],\n",
        "                [4, 5, 6]])\n",
        "max_indices = np.argmax(arr, axis=0)\n",
        "print(max_indices)\n"
      ],
      "metadata": {
        "colab": {
          "base_uri": "https://localhost:8080/"
        },
        "id": "MZggdI8hPHKy",
        "outputId": "d69847e8-8f27-4eca-8524-fc249adad34a"
      },
      "execution_count": null,
      "outputs": [
        {
          "output_type": "stream",
          "name": "stdout",
          "text": [
            "[1 1 1]\n"
          ]
        }
      ]
    },
    {
      "cell_type": "markdown",
      "source": [
        "**Code Execution Explanation=>**\n",
        "This code finds the indices of the maximum values along each column of the NumPy array arr, which has a shape of (2, 3). By using np.argmax(arr, axis=0), it determines the indices of the maximum values along axis 0 (columns). The result max_indices is an array where each element represents the index of the maximum value in the corresponding column of arr. Finally, it prints the max_indices array using print(max_indices), showing the column-wise indices of the maximum values in the array arr."
      ],
      "metadata": {
        "id": "2BmkVp8JjQvf"
      }
    },
    {
      "cell_type": "markdown",
      "source": [
        "question 44 = . For the given array, apply custom function to calculate moving sum along rows.\n",
        " arr = np.array([[1, 2, 3], [4, 5, 6]])"
      ],
      "metadata": {
        "id": "d0PpCUOJPTWv"
      }
    },
    {
      "cell_type": "code",
      "source": [
        "import numpy as np\n",
        "\n",
        "arr = np.array([[1, 2, 3],\n",
        "                [4, 5, 6]])\n",
        "\n",
        "def moving_sum(row):\n",
        "    cumsum = np.cumsum(row)\n",
        "    return cumsum\n",
        "\n",
        "moving_sum_result = np.apply_along_axis(moving_sum, axis=1, arr=arr)\n",
        "print(\"Moving sum along rows:\")\n",
        "print(moving_sum_result)\n"
      ],
      "metadata": {
        "colab": {
          "base_uri": "https://localhost:8080/"
        },
        "id": "fS_AcWUxPYEY",
        "outputId": "790bcb09-9937-41c6-a9dd-8ff0b9a9f1d0"
      },
      "execution_count": null,
      "outputs": [
        {
          "output_type": "stream",
          "name": "stdout",
          "text": [
            "Moving sum along rows:\n",
            "[[ 1  3  6]\n",
            " [ 4  9 15]]\n"
          ]
        }
      ]
    },
    {
      "cell_type": "markdown",
      "source": [
        "**Code Execution Explanation=>**\n",
        "This code defines a custom function moving_sum that calculates the cumulative sum (np.cumsum) of elements in each row of a 2D NumPy array arr. The function moving_sum is then applied along axis 1 (rows) of the array arr using np.apply_along_axis. This results in moving_sum_result, which contains the cumulative sums for each row of arr. Finally, it prints the moving_sum_result array, showing the moving sum along each row of the original array arr.\n"
      ],
      "metadata": {
        "id": "j25OfxJ0jghi"
      }
    },
    {
      "cell_type": "markdown",
      "source": [
        "question 45 =  In the given array, check if all elements in each column are even.\n",
        " arr = np.array([[2, 4, 6], [3, 5, 7]])\n"
      ],
      "metadata": {
        "id": "I1bTyAfKPoxV"
      }
    },
    {
      "cell_type": "code",
      "source": [
        "import numpy as np\n",
        "\n",
        "\n",
        "arr = np.array([[2, 4, 6], [3, 5, 7]])\n",
        "are_even = np.all(arr % 2 == 0, axis=0)\n",
        "if np.all(are_even):\n",
        "    print(\"Yes, all are even\")\n",
        "else:\n",
        "    print(\"No, not all are even\")\n"
      ],
      "metadata": {
        "colab": {
          "base_uri": "https://localhost:8080/"
        },
        "id": "ly-RLT0xPtf7",
        "outputId": "3d567822-e5f4-4384-ee51-98eb9e416523"
      },
      "execution_count": null,
      "outputs": [
        {
          "output_type": "stream",
          "name": "stdout",
          "text": [
            "No, not all are even\n"
          ]
        }
      ]
    },
    {
      "cell_type": "markdown",
      "source": [
        "**Code Execution Explanation=>**\n",
        "This code checks if all elements in each column of the given 2D NumPy array arr are even. It first applies the condition arr % 2 == 0 to check for even elements. Using np.all with axis=0, it evaluates if all elements in each column satisfy the even condition. If np.all(are_even) returns True, it prints \"Yes, all are even\"; otherwise, it prints \"No, not all are even\". This approach effectively checks each column for evenness across the rows of the array arr."
      ],
      "metadata": {
        "id": "9CqXJvrulPN-"
      }
    },
    {
      "cell_type": "markdown",
      "source": [
        "question 46 = Given a NumPy array arr, reshape it into a matrix of dimensions `m` rows and `n` columns. Return the\n",
        "reshaped matrix.\n",
        " original_array = np.array([1, 2, 3, 4, 5, 6])"
      ],
      "metadata": {
        "id": "EISz5jFFP17u"
      }
    },
    {
      "cell_type": "code",
      "source": [
        "import numpy as np\n",
        "\n",
        "original_array = np.array([1, 2, 3, 4, 5, 6])\n",
        "m = 2 #rows\n",
        "n = 3 #columns\n",
        "reshaped_matrix = np.reshape(original_array, (m, n))\n",
        "print(\"Reshaped Matrix:\")\n",
        "print(reshaped_matrix)\n",
        "\n"
      ],
      "metadata": {
        "colab": {
          "base_uri": "https://localhost:8080/"
        },
        "id": "QZ0QFULoP51a",
        "outputId": "36600f1d-f99a-4df2-8e9a-2e052881f3db"
      },
      "execution_count": null,
      "outputs": [
        {
          "output_type": "stream",
          "name": "stdout",
          "text": [
            "Reshaped Matrix:\n",
            "[[1 2 3]\n",
            " [4 5 6]]\n"
          ]
        }
      ]
    },
    {
      "cell_type": "markdown",
      "source": [
        "**Code Execution Explanation=>**\n",
        "This code reshapes the original NumPy array original_array into a matrix with m rows and n columns using np.reshape. Here, original_array is initially defined as a 1D array [1, 2, 3, 4, 5, 6]. The variables m and n specify the desired dimensions of the reshaped matrix: m = 2 for rows and n = 3 for columns. The np.reshape function then transforms original_array into a 2D matrix with these dimensions. Finally, it prints the reshaped matrix reshaped_matrix. This operation effectively reorganizes the elements of original_array into the specified matrix shape.\n",
        "\n",
        "\n",
        "\n",
        "\n",
        "\n"
      ],
      "metadata": {
        "id": "KY0c82t3lnhN"
      }
    },
    {
      "cell_type": "markdown",
      "source": [
        "question 47 =Create a function that takes a matrix as input and returns the flattened array.\n",
        " input_matrix = np.array([[1, 2, 3], [4, 5, 6]])"
      ],
      "metadata": {
        "id": "gIZTUCKMn616"
      }
    },
    {
      "cell_type": "code",
      "source": [
        "import numpy as np\n",
        "\n",
        "def flatten_matrix(input_matrix):\n",
        "    flattened_array = input_matrix.flatten()\n",
        "    return flattened_array\n",
        "\n",
        "input_matrix = np.array([[1, 2, 3], [4, 5, 6]])\n",
        "flattened_array = flatten_matrix(input_matrix)\n",
        "print(\"Flattened Array:\")\n",
        "print(flattened_array)\n"
      ],
      "metadata": {
        "colab": {
          "base_uri": "https://localhost:8080/"
        },
        "id": "quVZntjxoDvd",
        "outputId": "40d7146b-49d9-44bb-9f06-b25d628c2bd9"
      },
      "execution_count": null,
      "outputs": [
        {
          "output_type": "stream",
          "name": "stdout",
          "text": [
            "Flattened Array:\n",
            "[1 2 3 4 5 6]\n"
          ]
        }
      ]
    },
    {
      "cell_type": "markdown",
      "source": [
        "**Code Execution Explanation=>**\n",
        "This code defines a function flatten_matrix that takes a NumPy matrix input_matrix as input and returns its flattened version using the flatten() method. The input_matrix is initially defined as a 2D NumPy array [[1, 2, 3], [4, 5, 6]]. When flatten_matrix is called with input_matrix, it applies flatten() to convert the 2D matrix into a 1D flattened array flattened_array. Finally, it prints the flattened array. This operation effectively collapses the dimensions of the original matrix into a single row while retaining the sequence of elements."
      ],
      "metadata": {
        "id": "c0sCQ-O7mObq"
      }
    },
    {
      "cell_type": "markdown",
      "source": [
        "question 48 = Write a function that concatenates two given arrays along a specified axis.\n",
        " array1 = np.array([[1, 2], [3, 4]])\n",
        " array2 = np.array([[5, 6], [7, 8]])"
      ],
      "metadata": {
        "id": "Y5ZWO4dxoTE5"
      }
    },
    {
      "cell_type": "code",
      "source": [
        "import numpy as np\n",
        "\n",
        "def concatenate_arrays(array1, array2, axis):\n",
        "    concatenated_array = np.concatenate((array1, array2), axis=axis)\n",
        "    return concatenated_array\n",
        "\n",
        "array1 = np.array([[1, 2], [3, 4]])\n",
        "array2 = np.array([[5, 6], [7, 8]])\n",
        "concatenated_array_vertical = concatenate_arrays(array1, array2, axis=0)\n",
        "concatenated_array_horizontal = concatenate_arrays(array1, array2, axis=1)\n",
        "\n",
        "print(\"Concatenated Array (Vertical):\")\n",
        "print(concatenated_array_vertical)\n",
        "\n",
        "print(\"\\nConcatenated Array (Horizontal):\")\n",
        "print(concatenated_array_horizontal)\n"
      ],
      "metadata": {
        "colab": {
          "base_uri": "https://localhost:8080/"
        },
        "id": "znkoWFY8oaKH",
        "outputId": "33830e0a-7f54-4130-dc1f-c44f4aa90659"
      },
      "execution_count": null,
      "outputs": [
        {
          "output_type": "stream",
          "name": "stdout",
          "text": [
            "Concatenated Array (Vertical):\n",
            "[[1 2]\n",
            " [3 4]\n",
            " [5 6]\n",
            " [7 8]]\n",
            "\n",
            "Concatenated Array (Horizontal):\n",
            "[[1 2 5 6]\n",
            " [3 4 7 8]]\n"
          ]
        }
      ]
    },
    {
      "cell_type": "markdown",
      "source": [
        "**Code Execution Explanation=>**\n",
        "This function defines concatenate_arrays, which uses NumPy's np.concatenate to concatenate two provided NumPy arrays, array1 and array2, along a specified axis. In the example, array1 contains [[1, 2], [3, 4]] and array2 contains [[5, 6], [7, 8]]. Using concatenate_arrays with axis=0 vertically stacks them to yield [[1, 2], [3, 4], [5, 6], [7, 8]], while axis=1 horizontally concatenates them to produce [[1, 2, 5, 6], [3, 4, 7, 8]]. The function demonstrates both vertical and horizontal concatenation methods, showcasing NumPy's array manipulation capabilities."
      ],
      "metadata": {
        "id": "dw-ahN8ZmdUk"
      }
    },
    {
      "cell_type": "markdown",
      "source": [
        "question 49 = Create a function that splits an array into multiple sub-arrays along a specified axis.\n",
        " original_array = np.array([[1, 2, 3], [4, 5, 6], [7, 8, 9]])"
      ],
      "metadata": {
        "id": "bW2sbRsXopRN"
      }
    },
    {
      "cell_type": "code",
      "source": [
        "import numpy as np\n",
        "\n",
        "def split_array(original_array, num_sections, axis):\n",
        "    sub_arrays = np.split(original_array, num_sections, axis=axis)\n",
        "    return sub_arrays\n",
        "\n",
        "original_array = np.array([[1, 2, 3], [4, 5, 6], [7, 8, 9]])\n",
        "num_sections = 3\n",
        "axis = 0\n",
        "sub_arrays_vertical = split_array(original_array, num_sections, axis)\n",
        "\n",
        "axis = 1\n",
        "sub_arrays_horizontal = split_array(original_array, num_sections, axis)\n",
        "\n",
        "print(\"Sub-arrays after vertical split:\")\n",
        "for sub_array in sub_arrays_vertical:\n",
        "    print(sub_array)\n",
        "\n",
        "print(\"\\nSub-arrays after horizontal split:\")\n",
        "for sub_array in sub_arrays_horizontal:\n",
        "    print(sub_array)\n"
      ],
      "metadata": {
        "colab": {
          "base_uri": "https://localhost:8080/"
        },
        "id": "CUzQaTQ0o13T",
        "outputId": "5a1c774d-b4d0-4ae9-c52a-d52491afbbdd"
      },
      "execution_count": null,
      "outputs": [
        {
          "output_type": "stream",
          "name": "stdout",
          "text": [
            "Sub-arrays after vertical split:\n",
            "[[1 2 3]]\n",
            "[[4 5 6]]\n",
            "[[7 8 9]]\n",
            "\n",
            "Sub-arrays after horizontal split:\n",
            "[[1]\n",
            " [4]\n",
            " [7]]\n",
            "[[2]\n",
            " [5]\n",
            " [8]]\n",
            "[[3]\n",
            " [6]\n",
            " [9]]\n"
          ]
        }
      ]
    },
    {
      "cell_type": "markdown",
      "source": [
        "**Code Execution Explanation=>**\n",
        "This function, split_array, uses NumPy's np.split function to split the original_array along a specified axis into multiple sub-arrays. In the provided example, original_array is [[1, 2, 3], [4, 5, 6], [7, 8, 9]]. The function first splits the array vertically (axis=0), resulting in three sub-arrays: [[1, 2, 3]], [[4, 5, 6]], and [[7, 8, 9]]. Then, it splits the array horizontally (axis=1), yielding three sub-arrays: [[1], [4], [7]], [[2], [5], [8]], and [[3], [6], [9]]. This demonstrates how np.split can efficiently partition arrays along specified axes."
      ],
      "metadata": {
        "id": "dGoAsWU1nOsk"
      }
    },
    {
      "cell_type": "markdown",
      "source": [
        "question 50 = Write a function that inserts and then deletes elements from a given array at specified indices.\n",
        " original_array = np.array([1, 2, 3, 4, 5])\n",
        " indices_to_insert = [2, 4]\n",
        " values_to_insert = [10, 11]\n",
        " indices_to_delete = [1, 3]"
      ],
      "metadata": {
        "id": "k-mv6uf_qa0x"
      }
    },
    {
      "cell_type": "code",
      "source": [
        "import numpy as np\n",
        "\n",
        "def insert_and_delete(original_array, indices_to_insert, values_to_insert, indices_to_delete):\n",
        "    for index, value in zip(indices_to_insert, values_to_insert):\n",
        "        original_array = np.insert(original_array, index, value)\n",
        "\n",
        "    indices_to_delete = sorted(indices_to_delete, reverse=True)\n",
        "    for index in indices_to_delete:\n",
        "        original_array = np.delete(original_array, index)\n",
        "\n",
        "    return original_array\n",
        "\n",
        "original_array = np.array([1, 2, 3, 4, 5])\n",
        "indices_to_insert = [2, 4]\n",
        "values_to_insert = [10, 11]\n",
        "indices_to_delete = [1, 3]\n",
        "\n",
        "modified_array = insert_and_delete(original_array, indices_to_insert, values_to_insert, indices_to_delete)\n",
        "print(\"Modified Array after insertion and deletion:\", modified_array)\n"
      ],
      "metadata": {
        "colab": {
          "base_uri": "https://localhost:8080/"
        },
        "id": "g8CFsHZUqjQU",
        "outputId": "ed868595-44e4-435a-98fb-ab35f4c77357"
      },
      "execution_count": null,
      "outputs": [
        {
          "output_type": "stream",
          "name": "stdout",
          "text": [
            "Modified Array after insertion and deletion: [ 1 10 11  4  5]\n"
          ]
        }
      ]
    },
    {
      "cell_type": "markdown",
      "source": [
        "**Code Execution Explanation=>**\n",
        "This function, insert_and_delete, modifies the original_array by first inserting values at specified indices_to_insert using np.insert, which results in [1, 2, 10, 3, 11, 4, 5] after inserting values 10 at index 2 and 11 at index 4. Then, it deletes elements at indices specified in indices_to_delete using np.delete, resulting in [1, 10, 3, 11, 5] after deleting elements at indices 1 and 3. This demonstrates how NumPy functions np.insert and np.delete can be used to modify arrays by inserting and deleting elements at specific positions efficiently"
      ],
      "metadata": {
        "id": "GA06MnXOnsyi"
      }
    },
    {
      "cell_type": "markdown",
      "source": [
        "question 51 = Create a NumPy array `arr1` with random integers and another array `arr2` with integers from 1 to 10.\n",
        "Perform element-wise addition between `arr1` and `arr2`."
      ],
      "metadata": {
        "id": "i5RVzfsuqrIV"
      }
    },
    {
      "cell_type": "code",
      "source": [
        "import numpy as np\n",
        "\n",
        "arr1 = np.random.randint(1, 100, size=(2, 5))\n",
        "print(\"arr1:\")\n",
        "print(arr1)\n",
        "\n",
        "arr2 = np.arange(1, 11)\n",
        "print(\"arr2:\")\n",
        "print(arr2)\n",
        "\n",
        "arr2_reshaped = arr2.reshape(2, 5)\n",
        "result = arr1 + arr2_reshaped\n",
        "print(\"Result after element-wise addition:\")\n",
        "print(result)\n"
      ],
      "metadata": {
        "colab": {
          "base_uri": "https://localhost:8080/"
        },
        "id": "f4ey6X-XqvHr",
        "outputId": "2e4d2600-a1db-4436-fada-2915ee8fc93f"
      },
      "execution_count": null,
      "outputs": [
        {
          "output_type": "stream",
          "name": "stdout",
          "text": [
            "arr1:\n",
            "[[12 15 99 38 67]\n",
            " [77 20 99 42 38]]\n",
            "arr2:\n",
            "[ 1  2  3  4  5  6  7  8  9 10]\n",
            "Result after element-wise addition:\n",
            "[[ 13  17 102  42  72]\n",
            " [ 83  27 107  51  48]]\n"
          ]
        }
      ]
    },
    {
      "cell_type": "markdown",
      "source": [
        "**Code Execution Explanation=>**\n",
        "This code first creates a NumPy array arr1 containing random integers between 1 and 100, shaped as a 2x5 array, using np.random.randint. It then creates another array arr2 using np.arange to generate integers from 1 to 10. After reshaping arr2 to match the shape of arr1 using arr2.reshape(2, 5), it performs element-wise addition between arr1 and arr2_reshaped using the + operator, resulting in result, which contains the element-wise sums of corresponding elements from arr1 and arr2_reshaped"
      ],
      "metadata": {
        "id": "FeLF4rtWn-2V"
      }
    },
    {
      "cell_type": "markdown",
      "source": [
        "question 52 =  Generate a NumPy array `arr1` with sequential integers from 10 to 1 and another array `arr2` with integers\n",
        "from 1 to 10. Subtract `arr2` from `arr1` element-wise."
      ],
      "metadata": {
        "id": "BxGVz7oKq_Bq"
      }
    },
    {
      "cell_type": "code",
      "source": [
        "import numpy as np\n",
        "\n",
        "arr1 = np.arange(10, 0,-1)\n",
        "print(\"arr1:\", arr1)\n",
        "\n",
        "arr2 = np.arange(1, 11)\n",
        "print(\"arr2:\", arr2)\n",
        "result = arr1 - arr2\n",
        "print(\"Result after element-wise subtraction:\", result)\n"
      ],
      "metadata": {
        "colab": {
          "base_uri": "https://localhost:8080/"
        },
        "id": "aaAzunLnrjPV",
        "outputId": "bada276c-8546-4971-916b-b221577baf86"
      },
      "execution_count": null,
      "outputs": [
        {
          "output_type": "stream",
          "name": "stdout",
          "text": [
            "arr1: [10  9  8  7  6  5  4  3  2  1]\n",
            "arr2: [ 1  2  3  4  5  6  7  8  9 10]\n",
            "Result after element-wise subtraction: [ 9  7  5  3  1 -1 -3 -5 -7 -9]\n"
          ]
        }
      ]
    },
    {
      "cell_type": "markdown",
      "source": [
        "**Code Execution Explanation=>**\n",
        "This Python code creates two NumPy arrays, arr1 and arr2. arr1 is generated with sequential integers from 10 down to 1 using np.arange(10, 0, -1), while arr2 is filled with integers from 1 to 10 using np.arange(1, 11). The script then performs element-wise subtraction between arr1 and arr2 using the - operator and displays the resulting array result"
      ],
      "metadata": {
        "id": "VYwZDCZDoQZ-"
      }
    },
    {
      "cell_type": "markdown",
      "source": [
        "question 53 = Create a NumPy array `arr1` with random integers and another array `arr2` with integers from 1 to 5.\n",
        "Perform element-wise multiplication between `arr1` and `arr2`."
      ],
      "metadata": {
        "id": "KfCtpYjirpwB"
      }
    },
    {
      "cell_type": "code",
      "source": [
        "import numpy as np\n",
        "\n",
        "arr1 = np.random.randint(1, 11, size=(5))\n",
        "print(f\"arr1: {arr1}\")\n",
        "\n",
        "arr2 = np.arange(1, 6)\n",
        "print(f\"arr2: {arr2}\")\n",
        "result = arr1 * arr2\n",
        "print(f\"Result of element-wise multiplication:\\n{result}\")\n"
      ],
      "metadata": {
        "colab": {
          "base_uri": "https://localhost:8080/"
        },
        "id": "u9T77YKPruUK",
        "outputId": "5bc7f6a5-f3d6-4562-d78b-361780ae46ea"
      },
      "execution_count": null,
      "outputs": [
        {
          "output_type": "stream",
          "name": "stdout",
          "text": [
            "arr1: [ 7  6  2 10  6]\n",
            "arr2: [1 2 3 4 5]\n",
            "Result of element-wise multiplication:\n",
            "[ 7 12  6 40 30]\n"
          ]
        }
      ]
    },
    {
      "cell_type": "markdown",
      "source": [
        "**Code Execution Explanation=>**\n",
        "This Python code defines two NumPy arrays: arr1, generated with random integers between 1 and 10 using np.random.randint(1, 11, size=(5)), and arr2, containing integers from 1 to 5 created with np.arange(1, 6). The script then performs element-wise multiplication between arr1 and arr2 using the * operator, and displays the resulting array result which shows the element-wise multiplication of arr1 and arr2."
      ],
      "metadata": {
        "id": "9Zdh4KxEptiI"
      }
    },
    {
      "cell_type": "markdown",
      "source": [
        "question 54 =  Generate a NumPy array `arr1` with even integers from 2 to 10 and another array `arr2` with integers from 1\n",
        "to 5. Perform element-wise division of `arr1` by `arr2`."
      ],
      "metadata": {
        "id": "jYJEeO3Yr2Pv"
      }
    },
    {
      "cell_type": "code",
      "source": [
        "import numpy as np\n",
        "\n",
        "arr1 = np.arange(2, 11, 2)\n",
        "print(\"arr1:\", arr1)\n",
        "\n",
        "arr2 = np.arange(1, 6)\n",
        "print(\"arr2:\", arr2)\n",
        "\n",
        "result = arr1 / arr2\n",
        "print(\"Result of element-wise division:\")\n",
        "print(result)\n"
      ],
      "metadata": {
        "colab": {
          "base_uri": "https://localhost:8080/"
        },
        "id": "wForqpt7r7Px",
        "outputId": "a6ea91a2-34bf-4e67-fc77-c7714f5d3216"
      },
      "execution_count": null,
      "outputs": [
        {
          "output_type": "stream",
          "name": "stdout",
          "text": [
            "arr1: [ 2  4  6  8 10]\n",
            "arr2: [1 2 3 4 5]\n",
            "Result of element-wise division:\n",
            "[2. 2. 2. 2. 2.]\n"
          ]
        }
      ]
    },
    {
      "cell_type": "markdown",
      "source": [
        "**Code Execution Explanation=>**\n",
        "Python code generates two NumPy arrays: arr1 contains even integers from 2 to 10 using np.arange(2, 11, 2), and arr2 holds integers from 1 to 5 using np.arange(1, 6). The script then performs element-wise division of arr1 by arr2 using the / operator, and prints the resulting array result, which shows the element-wise division of arr1 by arr2.\n"
      ],
      "metadata": {
        "id": "qXf7FWSFqHnp"
      }
    },
    {
      "cell_type": "markdown",
      "source": [
        "question 55 = . Create a NumPy array `arr1` with integers from 1 to 5 and another array `arr2` with the same numbers\n",
        "reversed. Calculate the exponentiation of `arr1` raised to the power of `arr2` element-wise."
      ],
      "metadata": {
        "id": "4jBxhBijsQ46"
      }
    },
    {
      "cell_type": "code",
      "source": [
        "import numpy as np\n",
        "\n",
        "arr1 = np.arange(1, 6)\n",
        "print(\"arr1:\", arr1)\n",
        "arr2 = arr1[::-1]\n",
        "print(\"arr2:\", arr2)\n",
        "\n",
        "result = arr1 ** arr2\n",
        "print(\"Result of element-wise exponentiation:\")\n",
        "print(result)\n"
      ],
      "metadata": {
        "colab": {
          "base_uri": "https://localhost:8080/"
        },
        "id": "kMGEsh6hsZ9Y",
        "outputId": "4e50d0c9-2dc3-43e8-e26f-88842f841a1c"
      },
      "execution_count": null,
      "outputs": [
        {
          "output_type": "stream",
          "name": "stdout",
          "text": [
            "arr1: [1 2 3 4 5]\n",
            "arr2: [5 4 3 2 1]\n",
            "Result of element-wise exponentiation:\n",
            "[ 1 16 27 16  5]\n"
          ]
        }
      ]
    },
    {
      "cell_type": "markdown",
      "source": [
        "**Code Execution Explanation=>**\n",
        "Python code initializes two NumPy arrays: arr1 contains integers from 1 to 5 using np.arange(1, 6), and arr2 is a reversed version of arr1 achieved through slicing (arr1[::-1]). The code then computes the element-wise exponentiation of arr1 raised to the power of arr2 using the ** operator and stores the result in result. Finally, it prints the resulting array result, which shows each element of arr1 raised to the corresponding element in arr2."
      ],
      "metadata": {
        "id": "Y8QFAWLGqkf0"
      }
    },
    {
      "cell_type": "markdown",
      "source": [
        "question 56 = Write a function that counts the occurrences of a specific substring within a NumPy array of strings.\n",
        " arr = np.array(['hello', 'world', 'hello', 'numpy', 'hello'])"
      ],
      "metadata": {
        "id": "vT16elRasixm"
      }
    },
    {
      "cell_type": "code",
      "source": [
        "import numpy as np\n",
        "\n",
        "def count_substring_occurrences(arr, substring):\n",
        "    total_count = 0\n",
        "    for string in arr:\n",
        "        count_in_string = string.count(substring)\n",
        "\n",
        "        total_count += count_in_string\n",
        "\n",
        "    return total_count\n",
        "\n",
        "arr = np.array(['hello', 'world', 'hello', 'numpy', 'hello'])\n",
        "\n",
        "substring = 'hello'\n",
        "occurrences = count_substring_occurrences(arr, substring)\n",
        "print(f\"Occurrences of '{substring}' in the array: {occurrences}\")\n"
      ],
      "metadata": {
        "colab": {
          "base_uri": "https://localhost:8080/"
        },
        "id": "9kAK_6pbspYx",
        "outputId": "bf4b8210-b72e-4f3c-fdf2-7109676f37d0"
      },
      "execution_count": null,
      "outputs": [
        {
          "output_type": "stream",
          "name": "stdout",
          "text": [
            "Occurrences of 'hello' in the array: 3\n"
          ]
        }
      ]
    },
    {
      "cell_type": "markdown",
      "source": [
        "**Code Execution Explanation=>**\n",
        "This Python code defines a function count_substring_occurrences that takes a NumPy array arr of strings and a specific substring as inputs. It initializes total_count to 0 and iterates through each string in the array arr. Within the loop, it counts how many times substring appears in each string using the count method and adds this count to total_count. Finally, it returns total_count, which represents the total occurrences of substring in the entire array arr. The code then creates a NumPy array arr with strings, defines substring as 'hello', calls count_substring_occurrences with these inputs, and prints the result, showing the number of occurrences of 'hello' in the array."
      ],
      "metadata": {
        "id": "ODK1OCpaqzlU"
      }
    },
    {
      "cell_type": "markdown",
      "source": [
        "question 57 = Write a function that extracts uppercase characters from a NumPy array of strings.\n",
        " arr = np.array(['Hello', 'World', 'OpenAI', 'GPT'])\n",
        " arr = np.array(['Hello', 'World', 'OpenAI', 'GPT'])"
      ],
      "metadata": {
        "id": "dpWj485Rs0UB"
      }
    },
    {
      "cell_type": "code",
      "source": [
        "import numpy as np\n",
        "\n",
        "def extract_uppercase_characters(arr):\n",
        "    uppercase_chars = ''\n",
        "\n",
        "    for string in arr:\n",
        "        uppercase_chars += ''.join(char for char in string if char.isupper())\n",
        "\n",
        "    return uppercase_chars\n",
        "\n",
        "arr = np.array(['Hello', 'World', 'OpenAI', 'GPT'])\n",
        "\n",
        "uppercase_chars = extract_uppercase_characters(arr)\n",
        "print(\"Uppercase characters:\", uppercase_chars)\n"
      ],
      "metadata": {
        "colab": {
          "base_uri": "https://localhost:8080/"
        },
        "id": "_EFQjtt9s9fY",
        "outputId": "6a6134fc-6c24-499f-d98f-a3742cf410bb"
      },
      "execution_count": null,
      "outputs": [
        {
          "output_type": "stream",
          "name": "stdout",
          "text": [
            "Uppercase characters: HWOAIGPT\n"
          ]
        }
      ]
    },
    {
      "cell_type": "markdown",
      "source": [
        "**Code Execution Explanation=>**\n",
        "This Python code defines a function extract_uppercase_characters that operates on a NumPy array arr containing strings. It initializes an empty string uppercase_chars to accumulate uppercase characters extracted from each string in arr. The function iterates through each string in arr, and for each string, it checks each char to determine if it is uppercase using the isupper() method. If a character is uppercase, it appends it to uppercase_chars. Finally, the function returns uppercase_chars, which contains all the uppercase characters extracted from the array arr. The code demonstrates this by creating a NumPy array arr with strings, calling extract_uppercase_characters, and printing the resulting uppercase characters extracted from the array.\n"
      ],
      "metadata": {
        "id": "fIjQi6aKrM5V"
      }
    },
    {
      "cell_type": "markdown",
      "source": [
        "question 58 =  Write a function that replaces occurrences of a substring in a NumPy array of strings with a new string.\n",
        " arr = np.array(['apple', 'banana', 'grape', 'pineapple'])"
      ],
      "metadata": {
        "id": "JGZmu0dttNeC"
      }
    },
    {
      "cell_type": "code",
      "source": [
        "import numpy as np\n",
        "\n",
        "def replace_substring(arr, old_substring, new_substring):\n",
        "    replaced_arr = np.char.replace(arr, old_substring, new_substring)\n",
        "    return replaced_arr\n",
        "\n",
        "arr = np.array(['apple', 'banana', 'grape', 'pineapple','apple'])\n",
        "\n",
        "old_substring = 'apple'\n",
        "new_substring = 'orange'\n",
        "\n",
        "replaced_arr = replace_substring(arr, old_substring, new_substring)\n",
        "print(\"Original array:\", arr)\n",
        "print(\"Replaced array:\", replaced_arr)\n"
      ],
      "metadata": {
        "colab": {
          "base_uri": "https://localhost:8080/"
        },
        "id": "3IK2zNL8tcGF",
        "outputId": "1e458451-8579-48ab-9125-609d066e36d7"
      },
      "execution_count": null,
      "outputs": [
        {
          "output_type": "stream",
          "name": "stdout",
          "text": [
            "Original array: ['apple' 'banana' 'grape' 'pineapple' 'apple']\n",
            "Replaced array: ['orange' 'banana' 'grape' 'pineorange' 'orange']\n"
          ]
        }
      ]
    },
    {
      "cell_type": "markdown",
      "source": [
        "**Code Execution Explanation=>**\n",
        "This Python code defines a function replace_substring that utilizes NumPy's np.char.replace function to replace occurrences of a specified old_substring with a new_substring within a NumPy array arr containing strings. The function takes three arguments: arr (the input array of strings), old_substring (the substring to be replaced), and new_substring (the substring to replace with). It returns replaced_arr, which is the modified array after performing the replacement operation using np.char.replace. The code demonstrates this by creating a NumPy array arr with strings, calling replace_substring to replace occurrences of 'apple' with 'orange', and then printing both the original and replaced arrays for comparison.\n"
      ],
      "metadata": {
        "id": "zOLita0Sruwb"
      }
    },
    {
      "cell_type": "markdown",
      "source": [
        "question 59 =  Write a function that concatenates strings in a NumPy array element-wise.\n",
        " arr1 = np.array(['Hello', 'World'])\n",
        " arr2 = np.array(['Open', 'AI'])"
      ],
      "metadata": {
        "id": "k13Ow0letiXz"
      }
    },
    {
      "cell_type": "code",
      "source": [
        "import numpy as np\n",
        "\n",
        "arr1 = np.array(['Hello', 'World'])\n",
        "arr2 = np.array(['Open', 'AI'])\n",
        "\n",
        "def concatenate_strings(arr1, arr2):\n",
        "    return np.char.add(arr1, arr2)\n",
        "\n",
        "result = concatenate_strings(arr1, arr2)\n",
        "\n",
        "print(\"Concatenated strings:\")\n",
        "print(result)\n"
      ],
      "metadata": {
        "colab": {
          "base_uri": "https://localhost:8080/"
        },
        "id": "yx73VSxitnRO",
        "outputId": "b3072292-5482-430e-8c38-61d1299decd4"
      },
      "execution_count": null,
      "outputs": [
        {
          "output_type": "stream",
          "name": "stdout",
          "text": [
            "Concatenated strings:\n",
            "['HelloOpen' 'WorldAI']\n"
          ]
        }
      ]
    },
    {
      "cell_type": "markdown",
      "source": [
        "**Code Execution Explanation=>**\n",
        "This Python code defines a function concatenate_strings that uses NumPy's np.char.add function to concatenate strings element-wise from two input NumPy arrays arr1 and arr2. The function takes these arrays as arguments and returns result, which is a new NumPy array containing the concatenated strings. The code demonstrates this by defining arrays arr1 and arr2 with strings, calling concatenate_strings to concatenate them element-wise, and then printing the concatenated result."
      ],
      "metadata": {
        "id": "P4_n3s53sAX4"
      }
    },
    {
      "cell_type": "markdown",
      "source": [
        "question 60 =  Write a function that finds the length of the longest string in a NumPy array.\n",
        " arr = np.array(['apple', 'banana', 'grape', 'pineapple'])\n",
        " arr = np.array(['apple', 'banana', 'grape', 'pineapple'])"
      ],
      "metadata": {
        "id": "U8Y9zwdvty8U"
      }
    },
    {
      "cell_type": "code",
      "source": [
        "import numpy as np\n",
        "\n",
        "arr = np.array(['apple', 'banana', 'grape', 'pineapple'])\n",
        "def find_longest_string(arr):\n",
        "    max_length = 0\n",
        "    longest_string = \"\"\n",
        "    for string in arr:\n",
        "        if len(string) > max_length:\n",
        "            max_length = len(string)\n",
        "            longest_string = string\n",
        "    return longest_string, max_length\n",
        "\n",
        "longest_string, longest_length = find_longest_string(arr)\n",
        "print(\"Longest string:\", longest_string)\n",
        "print(\"Length of the longest string:\", longest_length)\n"
      ],
      "metadata": {
        "colab": {
          "base_uri": "https://localhost:8080/"
        },
        "id": "Ll7deJrMt5CI",
        "outputId": "8058a2af-4d79-4f59-9ab1-24bc56182ca1"
      },
      "execution_count": null,
      "outputs": [
        {
          "output_type": "stream",
          "name": "stdout",
          "text": [
            "Longest string: pineapple\n",
            "Length of the longest string: 9\n"
          ]
        }
      ]
    },
    {
      "cell_type": "markdown",
      "source": [
        "**Code Execution Explanation=>**\n",
        "Python code defines a function find_longest_string that takes a NumPy array arr of strings as input. It initializes max_length to 0 and longest_string to an empty string. It iterates through each string in the array arr and compares its length with max_length. If a longer string is found, it updates max_length and stores the string in longest_string. Finally, it returns longest_string and max_length. The code then assigns the returned values to longest_string and longest_length, and prints them to display the longest string and its length in the array arr."
      ],
      "metadata": {
        "id": "BCAoITR7sQa_"
      }
    },
    {
      "cell_type": "markdown",
      "source": [
        "question 61 = Create a dataset of 100 random integers between 1 and 1000. Compute the mean, median, variance, and\n",
        "standard deviation of the dataset using NumPy's functions."
      ],
      "metadata": {
        "id": "YsT9ZRU1uAqG"
      }
    },
    {
      "cell_type": "code",
      "source": [
        "import numpy as np\n",
        "\n",
        "dataset = np.random.randint(1, 1001, size=100)\n",
        "\n",
        "mean = np.mean(dataset)\n",
        "median = np.median(dataset)\n",
        "variance = np.var(dataset)\n",
        "std_deviation = np.std(dataset)\n",
        "\n",
        "print(\"Dataset Statistics:\")\n",
        "print(\"Mean:\", mean)\n",
        "print(\"Median:\", median)\n",
        "print(\"Variance:\", variance)\n",
        "print(\"Standard Deviation:\", std_deviation)\n"
      ],
      "metadata": {
        "colab": {
          "base_uri": "https://localhost:8080/"
        },
        "id": "KmzdJqiZuEzd",
        "outputId": "4ba08e1d-0747-4258-ab38-cba2f5948cd4"
      },
      "execution_count": null,
      "outputs": [
        {
          "output_type": "stream",
          "name": "stdout",
          "text": [
            "Dataset Statistics:\n",
            "Mean: 503.14\n",
            "Median: 504.0\n",
            "Variance: 82736.5004\n",
            "Standard Deviation: 287.6395320535757\n"
          ]
        }
      ]
    },
    {
      "cell_type": "markdown",
      "source": [
        "**Code Execution Explanation=>**\n",
        "This Python code generates a dataset dataset consisting of 100 random integers between 1 and 1000 using NumPy's random.randint function. It then calculates the statistical measures: mean, median, variance, and standard deviation using NumPy functions np.mean, np.median, np.var, and np.std, respectively. Finally, it prints out these statistics to provide insights into the dataset's central tendency, spread, and distribution characteristics.\n",
        "\n",
        "\n",
        "\n",
        "\n",
        "\n",
        "\n",
        "\n"
      ],
      "metadata": {
        "id": "Qm_aWhu5scjt"
      }
    },
    {
      "cell_type": "markdown",
      "source": [
        "question 62 = Generate an array of 50 random numbers between 1 and 100. Find the 25th and 75th percentiles of the\n",
        "dataset."
      ],
      "metadata": {
        "id": "au49-b2WuNzn"
      }
    },
    {
      "cell_type": "code",
      "source": [
        "import numpy as np\n",
        "\n",
        "\n",
        "dataset = np.random.randint(1, 101, size=50)\n",
        "\n",
        "percentile_25th = np.percentile(dataset, 25)\n",
        "percentile_75th = np.percentile(dataset, 75)\n",
        "\n",
        "print(\"25th Percentile:\", percentile_25th)\n",
        "print(\"75th Percentile:\", percentile_75th)\n",
        "\n"
      ],
      "metadata": {
        "colab": {
          "base_uri": "https://localhost:8080/"
        },
        "id": "qCVdkOhWuUqG",
        "outputId": "191fb1d2-bf46-441c-f814-f1c38f7740db"
      },
      "execution_count": null,
      "outputs": [
        {
          "output_type": "stream",
          "name": "stdout",
          "text": [
            "25th Percentile: 25.0\n",
            "75th Percentile: 73.0\n"
          ]
        }
      ]
    },
    {
      "cell_type": "markdown",
      "source": [
        "**Code Execution Explanation=>**\n",
        "This code generates an array dataset containing 50 random integers between 1 and 100 using NumPy's random.randint function. It then calculates the 25th and 75th percentiles of the dataset using NumPy's percentile function with the arguments (dataset, 25) and (dataset, 75), respectively. Finally, it prints out these percentiles to provide insights into the distribution of values within the dataset.\n",
        "\n",
        "\n",
        "\n",
        "\n",
        "\n"
      ],
      "metadata": {
        "id": "UBhciO4MsxlU"
      }
    },
    {
      "cell_type": "markdown",
      "source": [
        "question 63 = Create two arrays representing two sets of variables. Compute the correlation coefficient between these\n",
        "arrays using NumPy's `corrcoef` function."
      ],
      "metadata": {
        "id": "eQPwTeGQvRhc"
      }
    },
    {
      "cell_type": "code",
      "source": [
        "import numpy as np\n",
        "\n",
        "array1 = np.array([1, 2, 3, 4, 5])\n",
        "array2 = np.array([5, 4, 3, 2, 1])\n",
        "\n",
        "correlation_matrix = np.corrcoef(array1, array2)\n",
        "\n",
        "print(\"Correlation coefficient matrix:\")\n",
        "print(correlation_matrix)\n",
        "\n",
        "correlation_coefficient = correlation_matrix[0, 1]\n",
        "print(\"Correlation coefficient between array1 and array2:\", correlation_coefficient)\n"
      ],
      "metadata": {
        "colab": {
          "base_uri": "https://localhost:8080/"
        },
        "id": "wlHW_1SGvWk4",
        "outputId": "5be658b5-652e-4dfd-9de6-23178e1e0a43"
      },
      "execution_count": null,
      "outputs": [
        {
          "output_type": "stream",
          "name": "stdout",
          "text": [
            "Correlation coefficient matrix:\n",
            "[[ 1. -1.]\n",
            " [-1.  1.]]\n",
            "Correlation coefficient between array1 and array2: -0.9999999999999999\n"
          ]
        }
      ]
    },
    {
      "cell_type": "markdown",
      "source": [
        "**Code Execution Explanation=>**\n",
        "his code utilizes NumPy to compute the correlation coefficient between two arrays, array1 and array2. The corrcoef function from NumPy calculates a correlation matrix based on these arrays, where each element represents the correlation between pairs of variables. In this case, array1 contains [1, 2, 3, 4, 5] and array2 contains [5, 4, 3, 2, 1]. After computing the correlation matrix, the script extracts the correlation coefficient from the matrix, specifically the value at position (0, 1), which corresponds to the correlation between array1 and array2. This coefficient quantifies the strength and direction of the linear relationship between the variables in the arrays, with values closer to 1 indicating a strong positive correlation, closer to -1 indicating a strong negative correlation, and values near 0 indicating little to no linear relationship"
      ],
      "metadata": {
        "id": "S5Ry4bCktGRY"
      }
    },
    {
      "cell_type": "markdown",
      "source": [
        "question 64 = Create two matrices and perform matrix multiplication using NumPy's `dot` function."
      ],
      "metadata": {
        "id": "flWE2UaMvddY"
      }
    },
    {
      "cell_type": "code",
      "source": [
        "import numpy as np\n",
        "\n",
        "matrix1 = np.array([[1, 2, 3],\n",
        "                    [4, 5, 6]])\n",
        "\n",
        "matrix2 = np.array([[7, 8],\n",
        "                    [9, 10],\n",
        "                    [11, 12]])\n",
        "result = np.dot(matrix1, matrix2)\n",
        "\n",
        "print(\"Result of matrix multiplication:\")\n",
        "print(result)\n"
      ],
      "metadata": {
        "colab": {
          "base_uri": "https://localhost:8080/"
        },
        "id": "ILjFZFyuvits",
        "outputId": "d2cfe7b6-efbd-4df1-8022-ed008422b3ef"
      },
      "execution_count": null,
      "outputs": [
        {
          "output_type": "stream",
          "name": "stdout",
          "text": [
            "Result of matrix multiplication:\n",
            "[[ 58  64]\n",
            " [139 154]]\n"
          ]
        }
      ]
    },
    {
      "cell_type": "markdown",
      "source": [
        "**Code Execution Explanation=>**\n",
        "This code performs matrix multiplication using NumPy's dot function. Two matrices, matrix1 and matrix2, are defined with dimensions (2, 3) and (3, 2) respectively. The dot function computes the matrix product of matrix1 and matrix2. The result is a new matrix of shape (2, 2), where each element at position (i, j) is computed by taking the dot product of the i-th row of matrix1 and the j-th column of matrix2. This operation is fundamental in linear algebra and is efficiently handled by NumPy for large matrices. The resulting matrix result is printed to show the outcome of the matrix multiplication.\n",
        "\n"
      ],
      "metadata": {
        "id": "7Jqc7SXvuL__"
      }
    },
    {
      "cell_type": "markdown",
      "source": [
        "question 65 =  Create an array of 50 integers between 10 and 1000. Calculate the 10th, 50th (median), and 90th\n",
        "percentiles along with the first and third quartiles."
      ],
      "metadata": {
        "id": "GoejxQTuvq62"
      }
    },
    {
      "cell_type": "code",
      "source": [
        "import numpy as np\n",
        "\n",
        "\n",
        "data = np.random.randint(10, 1001, size=50)\n",
        "\n",
        "percentiles = np.percentile(data, [10, 50, 90])\n",
        "quartiles = np.percentile(data, [25, 75])\n",
        "\n",
        "print(\"10th Percentile:\", percentiles[0])\n",
        "print(\"Median (50th Percentile):\", percentiles[1])\n",
        "print(\"90th Percentile:\", percentiles[2])\n",
        "print(\"First Quartile (Q1):\", quartiles[0])\n",
        "print(\"Third Quartile (Q3):\", quartiles[1])\n"
      ],
      "metadata": {
        "colab": {
          "base_uri": "https://localhost:8080/"
        },
        "id": "WE-7miBJvvlJ",
        "outputId": "d8755a68-ed63-489b-d458-48e269b13ae7"
      },
      "execution_count": null,
      "outputs": [
        {
          "output_type": "stream",
          "name": "stdout",
          "text": [
            "10th Percentile: 134.5\n",
            "Median (50th Percentile): 473.5\n",
            "90th Percentile: 806.6000000000001\n",
            "First Quartile (Q1): 236.0\n",
            "Third Quartile (Q3): 675.25\n"
          ]
        }
      ]
    },
    {
      "cell_type": "markdown",
      "source": [
        "**Code Execution Explanation=>**\n",
        "This code generates an array data comprising 50 random integers ranging from 10 to 1000 using NumPy. The next step involves computing statistical measures using NumPy's percentile function. Specifically, it calculates the 10th, 50th (which corresponds to the median), and 90th percentiles, along with the first (Q1) and third (Q3) quartiles. These measures are crucial in statistical analysis as they provide insights into the distribution and spread of the dataset. The percentiles give specific values that indicate where certain percentages of the data fall, while quartiles divide the data into quarters, highlighting the central tendency and variability within the dataset. This analysis helps in understanding the overall characteristics and range of values present in the dataset generated.\n",
        "\n",
        "\n",
        "\n",
        "\n",
        "\n"
      ],
      "metadata": {
        "id": "cPz3xLQGurop"
      }
    },
    {
      "cell_type": "markdown",
      "source": [
        "question 66 = Create a NumPy array of integers and find the index of a specific element."
      ],
      "metadata": {
        "id": "iwnpvvOXwJJe"
      }
    },
    {
      "cell_type": "code",
      "source": [
        "import numpy as np\n",
        "\n",
        "arr = np.array([10, 20, 30, 40, 50])\n",
        "element_to_find = 30\n",
        "index = np.where(arr == element_to_find)\n",
        "print(\"Index of\", element_to_find, \":\", index[0])\n"
      ],
      "metadata": {
        "colab": {
          "base_uri": "https://localhost:8080/"
        },
        "id": "S7nWA0SWwNo5",
        "outputId": "200e1651-1fbc-46ca-e2c3-ebc2c77f8de3"
      },
      "execution_count": null,
      "outputs": [
        {
          "output_type": "stream",
          "name": "stdout",
          "text": [
            "Index of 30 : [2]\n"
          ]
        }
      ]
    },
    {
      "cell_type": "markdown",
      "source": [
        "**Code Execution Explanation=>**\n",
        "This code utilizes NumPy to create an array arr containing integers [10, 20, 30, 40, 50]. It then uses NumPy's where function to find the index of a specific element element_to_find, which in this case is 30. The where function returns an array of indices where the condition (arr == element_to_find) holds true. Here, it prints the index of the element 30, which is found at index 2 in the array arr. This approach efficiently locates the position of elements within a NumPy array based on specific criteria.\n",
        "\n",
        "\n",
        "\n",
        "\n",
        "\n"
      ],
      "metadata": {
        "id": "mf0wZ-GkvQ0J"
      }
    },
    {
      "cell_type": "markdown",
      "source": [
        "question 67 = Generate a random NumPy array and sort it in ascending order."
      ],
      "metadata": {
        "id": "EEb9cBk-wadq"
      }
    },
    {
      "cell_type": "code",
      "source": [
        "import numpy as np\n",
        "\n",
        "random_array = np.random.randint(1, 100, size=10)\n",
        "sorted_array = np.sort(random_array)\n",
        "\n",
        "print(\"Sorted Array:\")\n",
        "print(sorted_array)\n"
      ],
      "metadata": {
        "colab": {
          "base_uri": "https://localhost:8080/"
        },
        "id": "dArR2Y6Swe8y",
        "outputId": "fcf7c405-26c5-4f0d-ec10-825984a85172"
      },
      "execution_count": null,
      "outputs": [
        {
          "output_type": "stream",
          "name": "stdout",
          "text": [
            "Sorted Array:\n",
            "[ 3 11 26 28 33 38 44 45 51 62]\n"
          ]
        }
      ]
    },
    {
      "cell_type": "markdown",
      "source": [
        "**Code Execution Explanation=>**\n",
        "This code utilizes NumPy to generate a random array random_array containing 10 integers ranging from 1 to 100. It then sorts this array in ascending order using NumPy's sort function and stores the sorted result in sorted_array. Finally, it prints the sorted array, displaying the elements in ascending numerical order. This approach effectively demonstrates how to generate and sort random arrays using NumPy, providing an organized view of the data for analytical or operational purposes.\n",
        "\n",
        "\n",
        "\n",
        "\n",
        "\n"
      ],
      "metadata": {
        "id": "VurgFMC4vimt"
      }
    },
    {
      "cell_type": "markdown",
      "source": [
        "question 68 = filter elements >20  in the given NumPy array.\n",
        " arr = np.array([12, 25, 6, 42, 8, 30])"
      ],
      "metadata": {
        "id": "oW4IHE_3wqA9"
      }
    },
    {
      "cell_type": "code",
      "source": [
        "import numpy as np\n",
        "\n",
        "arr = np.array([12, 25, 6, 42, 8, 30])\n",
        "\n",
        "ar1 = arr > 20\n",
        "filtered_array = arr[ar1]\n",
        "\n",
        "print(f\"Original array:\\n{arr}\")\n",
        "print(f\"Filtered array (elements > 20):\\n{filtered_array}\")\n"
      ],
      "metadata": {
        "colab": {
          "base_uri": "https://localhost:8080/"
        },
        "id": "PMFtobPDwuJr",
        "outputId": "12d937dd-f207-4ec0-a273-9723ead6a60a"
      },
      "execution_count": null,
      "outputs": [
        {
          "output_type": "stream",
          "name": "stdout",
          "text": [
            "Original array:\n",
            "[12 25  6 42  8 30]\n",
            "Filtered array (elements > 20):\n",
            "[25 42 30]\n"
          ]
        }
      ]
    },
    {
      "cell_type": "markdown",
      "source": [
        "**Code Execution Explanation=>**\n",
        "This code utilizes NumPy to create an array arr containing integers. It then applies a boolean condition arr > 20 to filter out elements greater than 20 from the original array. The result of this filtering operation is stored in filtered_array. Finally, it prints both the original array arr and the filtered array filtered_array, showcasing the elements that meet the specified condition of being greater than 20. This approach demonstrates how to effectively filter elements based on a condition using NumPy, allowing for selective data extraction or manipulation in arrays."
      ],
      "metadata": {
        "id": "c2EEYGVEwKnb"
      }
    },
    {
      "cell_type": "markdown",
      "source": [
        "question 69 =  Filter elements which are divisible by 3 from a given NumPy array.\n",
        " arr = np.array([1, 5, 8, 12, 15])"
      ],
      "metadata": {
        "id": "BjYWNMFOw2Ae"
      }
    },
    {
      "cell_type": "code",
      "source": [
        "import numpy as np\n",
        "\n",
        "arr = np.array([1, 5, 8, 12, 15])\n",
        "\n",
        "bool_index = arr % 3 == 0\n",
        "\n",
        "filtered_array = arr[bool_index]\n",
        "\n",
        "print(\"Elements divisible by 3:\")\n",
        "print(filtered_array)\n"
      ],
      "metadata": {
        "colab": {
          "base_uri": "https://localhost:8080/"
        },
        "id": "-GMPGZpaw6Q_",
        "outputId": "b83a34f0-5684-451f-ab63-cfcf51987310"
      },
      "execution_count": null,
      "outputs": [
        {
          "output_type": "stream",
          "name": "stdout",
          "text": [
            "Elements divisible by 3:\n",
            "[12 15]\n"
          ]
        }
      ]
    },
    {
      "cell_type": "markdown",
      "source": [
        "**Code Execution Explanation=>**\n",
        "This code uses NumPy to filter elements from an array arr where each element is tested for divisibility by 3 using the condition arr % 3 == 0. This condition creates a boolean mask bool_index where each element in the array is checked against the modulo operation with 3, resulting in True for elements divisible by 3 and False otherwise. The filtered elements are then extracted using boolean indexing arr[bool_index], which returns a new array filtered_array containing only those elements of arr that satisfy the condition. Finally, the code prints out these filtered elements, showing which elements of the original array arr are divisible by 3. This approach efficiently demonstrates how to use boolean indexing in NumPy to selectively extract elements based on specific conditions.\n",
        "\n",
        "\n",
        "\n",
        "\n",
        "\n"
      ],
      "metadata": {
        "id": "kKFQiPJvwXMy"
      }
    },
    {
      "cell_type": "markdown",
      "source": [
        "question 70 =  Filter elements which are ≥ 20 and ≤ 40 from a given NumPy array.\n",
        " arr = np.array([10, 20, 30, 40, 50])"
      ],
      "metadata": {
        "id": "JeQPQt3ExCf7"
      }
    },
    {
      "cell_type": "code",
      "source": [
        "import numpy as np\n",
        "\n",
        "arr = np.array([10, 20, 30, 40, 50])\n",
        "bool_index= (arr >= 20) & (arr <= 40)\n",
        "filtered_array = arr[bool_index]\n",
        "print(\"Elements between 20 and 40:\")\n",
        "print(filtered_array)\n"
      ],
      "metadata": {
        "colab": {
          "base_uri": "https://localhost:8080/"
        },
        "id": "DGIhVWvxxJ9E",
        "outputId": "2614f4e2-201f-4467-9323-07ede14ed66d"
      },
      "execution_count": null,
      "outputs": [
        {
          "output_type": "stream",
          "name": "stdout",
          "text": [
            "Elements between 20 and 40:\n",
            "[20 30 40]\n"
          ]
        }
      ]
    },
    {
      "cell_type": "markdown",
      "source": [
        "**Code Execution Explanation=>**\n",
        "This code uses NumPy to filter elements from an array arr that fall within the range of 20 to 40 inclusive. This is achieved using boolean indexing with the condition (arr >= 20) & (arr <= 40). This condition creates a boolean mask bool_index where each element in the array is checked against the specified range. Elements that satisfy this condition (i.e., elements between 20 and 40) are selected using arr[bool_index], which results in a new array filtered_array. Finally, the code prints out these filtered elements, demonstrating how to effectively extract specific elements based on a defined range condition in NumPy.\n",
        "\n",
        "\n",
        "\n",
        "\n",
        "\n"
      ],
      "metadata": {
        "id": "ssadIDoewwRj"
      }
    },
    {
      "cell_type": "markdown",
      "source": [
        "question 71 =  For the given NumPy array, check its byte order using the `dtype` attribute byteorder.\n",
        " arr = np.array([1, 2, 3])\n"
      ],
      "metadata": {
        "id": "K7c5Kd3fzTGR"
      }
    },
    {
      "cell_type": "code",
      "source": [
        "import numpy as np\n",
        "\n",
        "arr = np.array([1, 2, 3])\n",
        "byte_order = arr.dtype.byteorder\n",
        "if byte_order == '=':\n",
        "    description = \"native\"\n",
        "elif byte_order == '<':\n",
        "    description = \"little-endian\"\n",
        "elif byte_order == '>':\n",
        "    description = \"big-endian\"\n",
        "else:\n",
        "    description = \"not applicable\"\n",
        "\n",
        "print(f\"Byte order of the array: {description}\")\n"
      ],
      "metadata": {
        "colab": {
          "base_uri": "https://localhost:8080/"
        },
        "id": "jUJlMjlBzYnK",
        "outputId": "51c47359-e96b-46fa-bcdb-ed500cdbdeb1"
      },
      "execution_count": null,
      "outputs": [
        {
          "output_type": "stream",
          "name": "stdout",
          "text": [
            "Byte order of the array: native\n"
          ]
        }
      ]
    },
    {
      "cell_type": "markdown",
      "source": [
        "**Code Execution Explanation=>**\n",
        "This code determines the byte order of a NumPy array arr using its dtype attribute and the byteorder property. It initializes arr with integers [1, 2, 3] and then retrieves the byte order information using arr.dtype.byteorder. The subsequent if-elif-else structure checks different possible byte order values ('=' for native, '<' for little-endian, '>' for big-endian), assigning descriptive labels accordingly. This approach ensures that the byte order of the array is identified and reported accurately, providing insights into how data is stored in memory relative to the system architecture.\n",
        "\n",
        "\n",
        "\n",
        "\n",
        "\n"
      ],
      "metadata": {
        "id": "ZBFAO4QfxKal"
      }
    },
    {
      "cell_type": "markdown",
      "source": [
        "question 72 =  For the given NumPy array, perform byte swapping in place using `byteswap()`.\n",
        " arr = np.array([1, 2, 3], dtype=np.int32)"
      ],
      "metadata": {
        "id": "A_ZdFucgzqN3"
      }
    },
    {
      "cell_type": "code",
      "source": [
        "import numpy as np\n",
        "arr = np.array([1, 2, 3], dtype=np.int32)\n",
        "\n",
        "print(\"Original array:\", arr)\n",
        "print(\"Original byte order:\", arr.dtype.byteorder)\n",
        "\n",
        "arr.byteswap(True)\n",
        "\n",
        "print(\"Array after byte swapping:\", arr)\n",
        "print(\"Byte order after swapping:\", arr.dtype.byteorder)\n"
      ],
      "metadata": {
        "id": "rMciV4tUzuGU"
      },
      "execution_count": null,
      "outputs": []
    },
    {
      "cell_type": "markdown",
      "source": [
        "**Code Execution Explanation=>**\n",
        "This code initializes a NumPy array arr containing integers [1, 2, 3] with a data type of np.int32. Initially, it prints the original array and its byte order using arr.dtype.byteorder. The byteswap(True) method is then applied to arr, performing an in-place byte swapping operation. Afterward, it prints the array again to show the result of the byte swapping and checks the updated byte order using arr.dtype.byteorder. This process demonstrates how to manipulate byte order directly on a NumPy array, ensuring compatibility or addressing specific memory layout requirements as needed.\n",
        "\n",
        "\n",
        "\n",
        "\n",
        "\n",
        "\n"
      ],
      "metadata": {
        "id": "Bl5tt0UtyJNO"
      }
    },
    {
      "cell_type": "markdown",
      "source": [
        "question 73 =  For the given NumPy array, swap its byte order without modifying the original array using\n",
        "`newbyteorder()`.\n",
        " arr = np.array([1, 2, 3], dtype=np.int32)"
      ],
      "metadata": {
        "id": "q7Y3WHVGzz6x"
      }
    },
    {
      "cell_type": "code",
      "source": [
        "import numpy as np\n",
        "\n",
        "arr = np.array([1, 2, 3], dtype=np.int32)\n",
        "print(\"Original array:\", arr)\n",
        "\n",
        "print(\"Byte order of the original array:\", arr.dtype.byteorder)\n",
        "\n",
        "swapped_arr = arr.newbyteorder()\n",
        "print(\"Array after byte swapping using newbyteorder():\", swapped_arr)\n",
        "\n",
        "print(\"Byte order of the swapped array:\", swapped_arr.dtype.byteorder)\n"
      ],
      "metadata": {
        "colab": {
          "base_uri": "https://localhost:8080/"
        },
        "id": "KhFm72Saz4Qj",
        "outputId": "e0555bdc-2929-4ed2-92c8-592e2d6afb19"
      },
      "execution_count": null,
      "outputs": [
        {
          "output_type": "stream",
          "name": "stdout",
          "text": [
            "Original array: [1 2 3]\n",
            "Byte order of the original array: =\n",
            "Array after byte swapping using newbyteorder(): [16777216 33554432 50331648]\n",
            "Byte order of the swapped array: >\n"
          ]
        }
      ]
    },
    {
      "cell_type": "markdown",
      "source": [
        "**Code Execution Explanation=>**\n",
        "This code initializes a NumPy array arr containing integers [1, 2, 3] with a data type of np.int32. It starts by printing the original array and its byte order using arr.dtype.byteorder. Then, it creates a new array swapped_arr by invoking arr.newbyteorder(), which swaps the byte order without modifying the original array arr. Afterward, it prints the swapped array to demonstrate the effect of newbyteorder() and checks the byte order of the swapped array using swapped_arr.dtype.byteorder. This approach ensures that any operations requiring a different byte order can be applied to the array without altering the original data.\n",
        "\n",
        "\n",
        "\n",
        "\n",
        "\n"
      ],
      "metadata": {
        "id": "zSD9P89KylBY"
      }
    },
    {
      "cell_type": "markdown",
      "source": [
        "question 74 = For the given NumPy array and swap its byte order conditionally based on system endianness using\n",
        "`newbyteorder()`.\n",
        " arr = np.array([1, 2, 3], dtype=np.int32)"
      ],
      "metadata": {
        "id": "cGl-pnAc0H-F"
      }
    },
    {
      "cell_type": "code",
      "source": [
        "import numpy as np\n",
        "import sys\n",
        "\n",
        "arr = np.array([1, 2, 3], dtype=np.int32)\n",
        "print(\"Original array:\", arr)\n",
        "print(\"Original array byte order:\", arr.dtype.byteorder)\n",
        "\n",
        "system_byte_order = sys.byteorder\n",
        "print(\"System byte order:\", system_byte_order)\n",
        "\n",
        "if (system_byte_order == 'little' and arr.dtype.byteorder == '>') or (system_byte_order == 'big' and arr.dtype.byteorder == '<'):\n",
        "    swapped_arr = arr.byteswap().newbyteorder()\n",
        "    print(\"Array byte order swapped.\")\n",
        "else:\n",
        "    swapped_arr = arr\n",
        "\n",
        "print(\"Swapped array:\", swapped_arr)\n",
        "print(\"Swapped array byte order:\", swapped_arr.dtype.byteorder)\n"
      ],
      "metadata": {
        "colab": {
          "base_uri": "https://localhost:8080/"
        },
        "id": "61QcHoyQ0Olh",
        "outputId": "932a2ee0-b177-4887-ba70-678dae8107e3"
      },
      "execution_count": null,
      "outputs": [
        {
          "output_type": "stream",
          "name": "stdout",
          "text": [
            "Original array: [1 2 3]\n",
            "Original array byte order: =\n",
            "System byte order: little\n",
            "Swapped array: [1 2 3]\n",
            "Swapped array byte order: =\n"
          ]
        }
      ]
    },
    {
      "cell_type": "markdown",
      "source": [
        "**Code Execution Explanation=>**\n",
        "This code initializes a NumPy array arr containing integers [1, 2, 3] with a data type of np.int32. It first identifies and prints the original array and its byte order using arr.dtype.byteorder. The system's byte order (sys.byteorder) is then determined and printed for reference. The conditional statement checks if the system's byte order and the array's byte order differ ('little' vs '>' or 'big' vs '<'). If a mismatch is detected, indicating differing endianness, the code swaps the byte order of arr using arr.byteswap().newbyteorder() to align with the system's endianness and assigns this to swapped_arr. This ensures consistency in byte order across different platforms. Finally, it prints the swapped array and its updated byte order (swapped_arr.dtype.byteorder). This approach is essential for applications requiring consistent byte order handling across various computing environments.\n",
        "\n",
        "\n",
        "\n",
        "\n",
        "\n"
      ],
      "metadata": {
        "id": "bvLnkAMozQ5V"
      }
    },
    {
      "cell_type": "markdown",
      "source": [
        "question 75 =  For the given NumPy array, check if byte swapping is necessary for the current system using `dtype`\n",
        "attribute `byteorder`.\n",
        " arr = np.array([1, 2, 3], dtype=np.int32)"
      ],
      "metadata": {
        "id": "24TGF93_6B1c"
      }
    },
    {
      "cell_type": "code",
      "source": [
        "import numpy as np\n",
        "import sys\n",
        "\n",
        "arr = np.array([1, 2, 3], dtype=np.int32)\n",
        "\n",
        "system_byte_order = sys.byteorder\n",
        "print(\"System byte order:\", system_byte_order)\n",
        "\n",
        "original_byte_order = arr.dtype.byteorder\n",
        "print(\"Original array:\", arr)\n",
        "print(\"Original array byte order:\", original_byte_order)\n",
        "\n",
        "if (system_byte_order == 'little' and original_byte_order == '>') or \\\n",
        "   (system_byte_order == 'big' and original_byte_order == '<'):\n",
        "    print(\"Byte swapping is necessary.\")\n",
        "else:\n",
        "    print(\"Byte swapping is not necessary.\")\n"
      ],
      "metadata": {
        "colab": {
          "base_uri": "https://localhost:8080/"
        },
        "id": "jLbdp05L6HKy",
        "outputId": "bf2adbd7-af70-4d55-a6ff-e73eeb394334"
      },
      "execution_count": null,
      "outputs": [
        {
          "output_type": "stream",
          "name": "stdout",
          "text": [
            "System byte order: little\n",
            "Original array: [1 2 3]\n",
            "Original array byte order: =\n",
            "Byte swapping is not necessary.\n"
          ]
        }
      ]
    },
    {
      "cell_type": "markdown",
      "source": [
        "**Code Execution Explanation=>**\n",
        "This code begins by creating a NumPy array arr initialized with integers [1, 2, 3] and a data type of np.int32. It then determines and prints the system's byte order (sys.byteorder). Next, it retrieves and prints the original byte order of the array using arr.dtype.byteorder. The conditional statement checks if the system's byte order ('little' or 'big') matches the array's byte order ('>' or '<'). If they differ, indicating potential endianness mismatch, it prints \"Byte swapping is necessary.\" Otherwise, it prints \"Byte swapping is not necessary.\" This assessment ensures that byte order alignment is verified between the array and the system, crucial for correct data interpretation across different platforms."
      ],
      "metadata": {
        "id": "cXJh-Mmfzo0o"
      }
    },
    {
      "cell_type": "markdown",
      "source": [
        "question 76 =  Create a NumPy array `arr1` with values from 1 to 10. Create a copy of `arr1` named `copy_arr` and modify\n",
        "an element in `copy_arr`. Check if modifying `copy_arr` affects `arr1`."
      ],
      "metadata": {
        "id": "J7vXElI1-PHJ"
      }
    },
    {
      "cell_type": "code",
      "source": [
        "import numpy as np\n",
        "\n",
        "arr1 = np.arange(1, 11)\n",
        "print(\"Original array (arr1):\", arr1)\n",
        "copy_arr = arr1.copy()\n",
        "print(\"Copied array (copy_arr):\", copy_arr)\n",
        "copy_arr[0] = 100\n",
        "print(\"Modified copied array (copy_arr):\", copy_arr)\n",
        "print(\"Original array after modification :\", arr1)\n"
      ],
      "metadata": {
        "id": "JeM39NAf-WGh",
        "outputId": "8cd8f033-ed30-4448-a847-5eb45bf34f87",
        "colab": {
          "base_uri": "https://localhost:8080/"
        }
      },
      "execution_count": null,
      "outputs": [
        {
          "output_type": "stream",
          "name": "stdout",
          "text": [
            "Original array (arr1): [ 1  2  3  4  5  6  7  8  9 10]\n",
            "Copied array (copy_arr): [ 1  2  3  4  5  6  7  8  9 10]\n",
            "Modified copied array (copy_arr): [100   2   3   4   5   6   7   8   9  10]\n",
            "Original array after modification : [ 1  2  3  4  5  6  7  8  9 10]\n"
          ]
        }
      ]
    },
    {
      "cell_type": "markdown",
      "source": [
        "**Code Execution Explanation=>**\n",
        "This code demonstrates the process of creating a NumPy array arr1 containing integers from 1 to 10 using np.arange(1, 11). It then creates a copy of arr1 named copy_arr using the copy() method. Initially, both arrays arr1 and copy_arr are identical. The element at index 0 of copy_arr is then modified to 100 (copy_arr[0] = 100). After modifying copy_arr, the original array arr1 remains unchanged, as demonstrated by printing arr1 again after modifying copy_arr. This behavior illustrates that modifying the copied array copy_arr does not affect the original array arr1, highlighting the utility of creating independent copies for manipulating data without altering the original dataset.\n",
        "\n",
        "\n",
        "\n",
        "\n",
        "\n"
      ],
      "metadata": {
        "id": "z2tsCSIQ0Pg9"
      }
    },
    {
      "cell_type": "markdown",
      "source": [
        "question 77 = . Create a 2D NumPy array `matrix` of shape (3, 3) with random integers. Extract a slice `view_slice` from\n",
        "the matrix. Modify an element in `view_slice` and observe if it changes the original `matrix`"
      ],
      "metadata": {
        "id": "v8uY1I73_FZK"
      }
    },
    {
      "cell_type": "code",
      "source": [
        "import numpy as np\n",
        "\n",
        "matrix = np.random.randint(1, 100, (3, 3))\n",
        "print(\"Original matrix:\\n\", matrix)\n",
        "\n",
        "view_slice = matrix[1:, 1:]\n",
        "print(\"View slice:\\n\", view_slice)\n",
        "\n",
        "view_slice[0, 0] = 1000\n",
        "print(\"Modified view slice:\\n\", view_slice)\n",
        "\n",
        "print(\"Matrix after modifying view slice:\\n\", matrix)\n"
      ],
      "metadata": {
        "id": "de0Lz5x3_PCn",
        "outputId": "bad3e320-c110-4750-faee-91bd5f9b302d",
        "colab": {
          "base_uri": "https://localhost:8080/"
        }
      },
      "execution_count": null,
      "outputs": [
        {
          "output_type": "stream",
          "name": "stdout",
          "text": [
            "Original matrix:\n",
            " [[ 5 49 98]\n",
            " [49  5  9]\n",
            " [95 71 16]]\n",
            "View slice:\n",
            " [[ 5  9]\n",
            " [71 16]]\n",
            "Modified view slice:\n",
            " [[1000    9]\n",
            " [  71   16]]\n",
            "Matrix after modifying view slice:\n",
            " [[   5   49   98]\n",
            " [  49 1000    9]\n",
            " [  95   71   16]]\n"
          ]
        }
      ]
    },
    {
      "cell_type": "markdown",
      "source": [
        "**Code Execution Explanation=>**\n",
        "This code creates a 3x3 NumPy array matrix filled with random integers between 1 and 100 using np.random.randint(1, 100, (3, 3)). It then extracts a slice view view_slice from matrix using slicing (matrix[1:, 1:]), which includes elements from the second row and second column onward. The view slice view_slice is modified by setting its element at index (0, 0) to 1000 (view_slice[0, 0] = 1000). After modification, the original matrix matrix is printed again to observe if modifying the view slice affects the original matrix. In this case, modifying view_slice indeed changes the corresponding element in the original matrix matrix, demonstrating that the view slice operates as a reference to the original data, allowing direct modifications to propagate back to the original array. This behavior reflects the nature of NumPy views, where slices provide a way to work with specific subsets of data without creating copies, thus efficiently managing memory and enhancing performance.\n",
        "\n",
        "\n",
        "\n",
        "\n",
        "\n"
      ],
      "metadata": {
        "id": "w5NFGOwI0ncD"
      }
    },
    {
      "cell_type": "markdown",
      "source": [
        "question 78 =  Create a NumPy array `array_a` of shape (4, 3) with sequential integers from 1 to 12. Extract a slice\n",
        "`view_b` from `array_a` and broadcast the addition of 5 to view_b. Check if it alters the original `array_a`"
      ],
      "metadata": {
        "id": "79WGu_kv_XBS"
      }
    },
    {
      "cell_type": "code",
      "source": [
        "import numpy as np\n",
        "\n",
        "array_a = np.arange(1, 13).reshape(4, 3)\n",
        "print(\"Original array_a:\")\n",
        "print(array_a)\n",
        "\n",
        "view_b = array_a[:2, :2]\n",
        "print(\"\\nSlice view_b from array_a:\")\n",
        "print(view_b)\n",
        "\n",
        "view_b += 5\n",
        "print(\"\\nModified slice view_b after broadcasting addition of 5:\")\n",
        "print(view_b)\n",
        "\n",
        "print(\"\\nOriginal array_a after modifying view_b:\")\n",
        "print(array_a)\n"
      ],
      "metadata": {
        "id": "FswS4iyF_c1b",
        "outputId": "9cbf757f-afa0-4103-ef29-db05deed9c1d",
        "colab": {
          "base_uri": "https://localhost:8080/"
        }
      },
      "execution_count": null,
      "outputs": [
        {
          "output_type": "stream",
          "name": "stdout",
          "text": [
            "Original array_a:\n",
            "[[ 1  2  3]\n",
            " [ 4  5  6]\n",
            " [ 7  8  9]\n",
            " [10 11 12]]\n",
            "\n",
            "Slice view_b from array_a:\n",
            "[[1 2]\n",
            " [4 5]]\n",
            "\n",
            "Modified slice view_b after broadcasting addition of 5:\n",
            "[[ 6  7]\n",
            " [ 9 10]]\n",
            "\n",
            "Original array_a after modifying view_b:\n",
            "[[ 6  7  3]\n",
            " [ 9 10  6]\n",
            " [ 7  8  9]\n",
            " [10 11 12]]\n"
          ]
        }
      ]
    },
    {
      "cell_type": "markdown",
      "source": [
        "**Code Execution Explanation=>**\n",
        "This code creates a 4x3 NumPy array array_a with sequential integers from 1 to 12 using np.arange(1, 13).reshape(4, 3). It then extracts a slice view view_b from array_a using slicing (array_a[:2, :2]), which selects the first two rows and first two columns of array_a. Next, it broadcasts the addition of 5 to view_b (view_b += 5). The output confirms that view_b is modified as expected. Finally, it prints the original array array_a to check if modifying view_b affects it. In this case, modifying view_b does indeed alter the corresponding elements in the original array array_a, demonstrating that broadcasting operations on views can directly impact the underlying data. This behavior is due to the fact that views in NumPy provide a window into the original array's data, allowing changes made through the view to propagate back to the original array. Thus, modifications to views can influence the state of the original array when broadcasting or directly modifying elements.\n",
        "\n",
        "\n",
        "\n",
        "\n",
        "\n"
      ],
      "metadata": {
        "id": "QJAEeI7C2tjO"
      }
    },
    {
      "cell_type": "markdown",
      "source": [
        "question 79 = Create a NumPy array `orig_array` of shape (2, 4) with values from 1 to 8. Create a reshaped view\n",
        "`reshaped_view` of shape (4, 2) from orig_array. Modify an element in `reshaped_view` and check if it\n",
        "reflects changes in the original `orig_array`."
      ],
      "metadata": {
        "id": "rTv91Eie_hv3"
      }
    },
    {
      "cell_type": "code",
      "source": [
        "import numpy as np\n",
        "\n",
        "orig_array = np.arange(1, 9).reshape(2, 4)\n",
        "print(\"Original array orig_array:\")\n",
        "print(orig_array)\n",
        "\n",
        "reshaped_view = orig_array.reshape(4, 2)\n",
        "print(\"\\nReshaped view reshaped_view from orig_array:\")\n",
        "print(reshaped_view)\n",
        "\n",
        "reshaped_view[2, 1] = 10\n",
        "print(\"\\nModified reshaped_view after changing an element:\")\n",
        "print(reshaped_view)\n",
        "\n",
        "print(\"\\nOriginal array  after modifying reshaped_view:\")\n",
        "print(orig_array)\n"
      ],
      "metadata": {
        "id": "8yYX1V3d_my9",
        "outputId": "ba7c445a-cb50-480c-c16a-7946434e313f",
        "colab": {
          "base_uri": "https://localhost:8080/"
        }
      },
      "execution_count": null,
      "outputs": [
        {
          "output_type": "stream",
          "name": "stdout",
          "text": [
            "Original array orig_array:\n",
            "[[1 2 3 4]\n",
            " [5 6 7 8]]\n",
            "\n",
            "Reshaped view reshaped_view from orig_array:\n",
            "[[1 2]\n",
            " [3 4]\n",
            " [5 6]\n",
            " [7 8]]\n",
            "\n",
            "Modified reshaped_view after changing an element:\n",
            "[[ 1  2]\n",
            " [ 3  4]\n",
            " [ 5 10]\n",
            " [ 7  8]]\n",
            "\n",
            "Original array  after modifying reshaped_view:\n",
            "[[ 1  2  3  4]\n",
            " [ 5 10  7  8]]\n"
          ]
        }
      ]
    },
    {
      "cell_type": "markdown",
      "source": [
        "**Code Execution Explanation=>**\n",
        "This code initializes a NumPy array orig_array of shape (2, 4) with values from 1 to 8 using np.arange(1, 9).reshape(2, 4). It then creates a reshaped view reshaped_view of shape (4, 2) from orig_array using orig_array.reshape(4, 2). The reshaped view reshaped_view is displayed, and subsequently, an element within reshaped_view is modified (reshaped_view[2, 1] = 10). This change is verified by printing reshaped_view. Finally, the original array orig_array is printed to check if modifying reshaped_view affects it. In this case, the modification made in reshaped_view indeed reflects in the corresponding position of the original array orig_array. This behavior occurs because reshaping orig_array to create reshaped_view does not create a separate copy but rather provides a different view into the same underlying data. Therefore, changes made in reshaped_view propagate back to orig_array, illustrating how modifications in reshaped views can influence the original array's data."
      ],
      "metadata": {
        "id": "GX8mkQ4H3Jj5"
      }
    },
    {
      "cell_type": "markdown",
      "source": [
        "question 80 = Create a NumPy array `data` of shape (3, 4) with random integers. Extract a copy `data_copy` of\n",
        "elements greater than 5. Modify an element in `data_copy` and verify if it affects the original `data`."
      ],
      "metadata": {
        "id": "rU25ZWCrAn4z"
      }
    },
    {
      "cell_type": "code",
      "source": [
        "import numpy as np\n",
        "\n",
        "data = np.random.randint(1, 10, size=(3, 4))\n",
        "print(\"Original array data:\")\n",
        "print(data)\n",
        "\n",
        "data_copy = data[data > 5].copy().reshape(-1, 1)\n",
        "print(\"\\nCopy of elements greater than 5 in data:\")\n",
        "print(data_copy)\n",
        "\n",
        "data_copy[0, 0] = 10\n",
        "print(\"\\nModified data_copy after changing an element:\")\n",
        "print(data_copy)\n",
        "\n",
        "print(\"\\nOriginal array data after modifying data_copy:\")\n",
        "print(data)\n"
      ],
      "metadata": {
        "id": "SfAVBGAXAvV7",
        "outputId": "4750c79b-1cf2-4896-9e7e-315078e17aa1",
        "colab": {
          "base_uri": "https://localhost:8080/"
        }
      },
      "execution_count": null,
      "outputs": [
        {
          "output_type": "stream",
          "name": "stdout",
          "text": [
            "Original array data:\n",
            "[[7 6 1 8]\n",
            " [1 3 7 9]\n",
            " [8 4 3 9]]\n",
            "\n",
            "Copy of elements greater than 5 in data:\n",
            "[[7]\n",
            " [6]\n",
            " [8]\n",
            " [7]\n",
            " [9]\n",
            " [8]\n",
            " [9]]\n",
            "\n",
            "Modified data_copy after changing an element:\n",
            "[[10]\n",
            " [ 6]\n",
            " [ 8]\n",
            " [ 7]\n",
            " [ 9]\n",
            " [ 8]\n",
            " [ 9]]\n",
            "\n",
            "Original array data after modifying data_copy:\n",
            "[[7 6 1 8]\n",
            " [1 3 7 9]\n",
            " [8 4 3 9]]\n"
          ]
        }
      ]
    },
    {
      "cell_type": "markdown",
      "source": [
        "\n",
        "**Code Execution Explanation=>**\n",
        "This code initializes a NumPy array data of shape (3, 4) with random integers using np.random.randint(1, 10, size=(3, 4)). It then extracts a copy data_copy of elements from data that are greater than 5 using data[data > 5].copy().reshape(-1, 1). This extraction ensures that data_copy is a separate copy rather than a view of data. The extracted elements greater than 5 are reshaped into a single column array (reshape(-1, 1)). The modified data_copy is then printed to show the change made (data_copy[0, 0] = 10). Finally, the original array data is printed to verify if modifying data_copy has affected it. In this case, since data_copy was created as a copy of the elements greater than 5 from data, changes made to data_copy do not affect the original data. This behavior ensures that modifications made to data_copy are isolated from the original data, demonstrating the use of copying to avoid unintended changes to the original array.\n",
        "\n"
      ],
      "metadata": {
        "id": "_n-pcdZ93686"
      }
    },
    {
      "cell_type": "markdown",
      "source": [
        "question 81 =  Create two matrices A and B of identical shape containing integers and perform addition and subtraction\n",
        "operations between them."
      ],
      "metadata": {
        "id": "ihreMnd8BZLp"
      }
    },
    {
      "cell_type": "code",
      "source": [
        "import numpy as np\n",
        "\n",
        "A = np.array([[1, 2, 3],\n",
        "              [4, 5, 6]])\n",
        "\n",
        "B = np.array([[7, 8, 9],\n",
        "              [10, 11, 12]])\n",
        "\n",
        "addition_result = A + B\n",
        "\n",
        "subtraction_result = A - B\n",
        "\n",
        "print(\"Matrix A:\")\n",
        "print(A)\n",
        "\n",
        "print(\"\\nMatrix B:\")\n",
        "print(B)\n",
        "\n",
        "print(\"\\nResult of addition (A + B):\")\n",
        "print(addition_result)\n",
        "\n",
        "print(\"\\nResult of subtraction (A - B):\")\n",
        "print(subtraction_result)\n"
      ],
      "metadata": {
        "id": "VxTAaKHMBhm3",
        "outputId": "0c7579c2-5cc7-4cde-d39a-a4d6cb6d1471",
        "colab": {
          "base_uri": "https://localhost:8080/"
        }
      },
      "execution_count": null,
      "outputs": [
        {
          "output_type": "stream",
          "name": "stdout",
          "text": [
            "Matrix A:\n",
            "[[1 2 3]\n",
            " [4 5 6]]\n",
            "\n",
            "Matrix B:\n",
            "[[ 7  8  9]\n",
            " [10 11 12]]\n",
            "\n",
            "Result of addition (A + B):\n",
            "[[ 8 10 12]\n",
            " [14 16 18]]\n",
            "\n",
            "Result of subtraction (A - B):\n",
            "[[-6 -6 -6]\n",
            " [-6 -6 -6]]\n"
          ]
        }
      ]
    },
    {
      "cell_type": "markdown",
      "source": [
        "**Code Execution Explanation=>**\n",
        "This code demonstrates matrix addition and subtraction operations using NumPy arrays. Matrix A and B are initialized with identical shapes and integer values. Addition and subtraction operations are performed between A and B using A + B and A - B, respectively. The results are stored in addition_result and subtraction_result variables. The matrices A and B are then printed along with their respective addition and subtraction results. Matrix addition (A + B) adds corresponding elements from matrices A and B, while matrix subtraction (A - B) subtracts corresponding elements. This showcases basic arithmetic operations between matrices using NumPy, which are efficient and straightforward due to NumPy's optimized element-wise operations.\n"
      ],
      "metadata": {
        "id": "iaCf1rFE4To2"
      }
    },
    {
      "cell_type": "markdown",
      "source": [
        "question 82 = Generate two matrices `C` (3x2) and `D` (2x4) and perform matrix multiplication."
      ],
      "metadata": {
        "id": "SfYYDXvDBoEb"
      }
    },
    {
      "cell_type": "code",
      "source": [
        "import numpy as np\n",
        "\n",
        "C = np.array([[1, 2],\n",
        "              [3, 4],\n",
        "              [5, 6]])\n",
        "\n",
        "D = np.array([[7, 8, 9, 10],\n",
        "              [11, 12, 13, 14]])\n",
        "\n",
        "result = np.dot(C, D)\n",
        "\n",
        "print(\"Matrix C:\")\n",
        "print(C)\n",
        "\n",
        "print(\"\\nMatrix D:\")\n",
        "print(D)\n",
        "\n",
        "print(\"\\nResult of matrix multiplication (C x D):\")\n",
        "print(result)\n"
      ],
      "metadata": {
        "id": "qCBlsqciBvuO",
        "outputId": "aecf7828-efcc-4a35-8c81-1fb976c66f51",
        "colab": {
          "base_uri": "https://localhost:8080/"
        }
      },
      "execution_count": null,
      "outputs": [
        {
          "output_type": "stream",
          "name": "stdout",
          "text": [
            "Matrix C:\n",
            "[[1 2]\n",
            " [3 4]\n",
            " [5 6]]\n",
            "\n",
            "Matrix D:\n",
            "[[ 7  8  9 10]\n",
            " [11 12 13 14]]\n",
            "\n",
            "Result of matrix multiplication (C x D):\n",
            "[[ 29  32  35  38]\n",
            " [ 65  72  79  86]\n",
            " [101 112 123 134]]\n"
          ]
        }
      ]
    },
    {
      "cell_type": "markdown",
      "source": [
        "**Code Execution Explanation=>**\n",
        "This code demonstrates matrix multiplication using NumPy arrays. Matrix C has dimensions 3x2 and Matrix D has dimensions 2x4. The np.dot() function is used to compute the matrix multiplication C * D. The result is stored in the variable result. Matrix C and D are printed to show their original values, and the result of the matrix multiplication C * D is then printed. Matrix multiplication in NumPy follows standard linear algebra rules where the number of columns in the first matrix must equal the number of rows in the second matrix for the operation to be defined."
      ],
      "metadata": {
        "id": "3PdiVH844qmr"
      }
    },
    {
      "cell_type": "markdown",
      "source": [
        "question 83 = Create a matrix `E` and find its transpose."
      ],
      "metadata": {
        "id": "eY2MIofOCBbm"
      }
    },
    {
      "cell_type": "code",
      "source": [
        "import numpy as np\n",
        "\n",
        "E = np.array([[1, 2, 3],\n",
        "              [4, 5, 6]])\n",
        "E_transpose = np.transpose(E)\n",
        "\n",
        "print(\"Matrix E:\")\n",
        "print(E)\n",
        "print(\"\\nTranspose of matrix E:\")\n",
        "print(E_transpose)"
      ],
      "metadata": {
        "id": "wjzpaESbCH0O",
        "outputId": "a52d0ab8-cd19-4208-ecde-4b365cbc52b4",
        "colab": {
          "base_uri": "https://localhost:8080/"
        }
      },
      "execution_count": null,
      "outputs": [
        {
          "output_type": "stream",
          "name": "stdout",
          "text": [
            "Matrix E:\n",
            "[[1 2 3]\n",
            " [4 5 6]]\n",
            "\n",
            "Transpose of matrix E:\n",
            "[[1 4]\n",
            " [2 5]\n",
            " [3 6]]\n"
          ]
        }
      ]
    },
    {
      "cell_type": "markdown",
      "source": [
        "**Code Execution Explanation=**>\n",
        "This code showcases how to work with matrices using NumPy in Python. Matrix E is created with dimensions 2x3 and filled with sequential integers. The transpose of E, obtained using np.transpose(E), swaps its rows and columns, converting a 2x3 matrix into a 3x2 matrix. This operation is crucial in linear algebra and data manipulation tasks where matrix transformations are needed."
      ],
      "metadata": {
        "id": "Puxz5UF-6sC2"
      }
    },
    {
      "cell_type": "markdown",
      "source": [
        "question 84 =  Generate a square matrix `F` and compute its determinant."
      ],
      "metadata": {
        "id": "Xs3vbSHWCTAw"
      }
    },
    {
      "cell_type": "code",
      "source": [
        "import numpy as np\n",
        "\n",
        "F = np.array([[1, 2],\n",
        "              [3, 4]])\n",
        "determinant_F = np.linalg.det(F)\n",
        "print(\"Matrix F:\")\n",
        "print(F)\n",
        "print(\"\\nDeterminant of matrix F:\", determinant_F)\n"
      ],
      "metadata": {
        "id": "2WR0WaitCfl7",
        "outputId": "8deea1ba-aa7a-4890-dd28-4a936755e90c",
        "colab": {
          "base_uri": "https://localhost:8080/"
        }
      },
      "execution_count": null,
      "outputs": [
        {
          "output_type": "stream",
          "name": "stdout",
          "text": [
            "Matrix F:\n",
            "[[1 2]\n",
            " [3 4]]\n",
            "\n",
            "Determinant of matrix F: -2.0000000000000004\n"
          ]
        }
      ]
    },
    {
      "cell_type": "markdown",
      "source": [
        "**Code Execution Explanation=>**\n",
        "This code demonstrates how to calculate the determinant of a square matrix using NumPy in Python. Matrix F is created as a 2x2 matrix with specific values. The determinant of F is computed using np.linalg.det(F), which is a NumPy function designed for linear algebra operations. The determinant of a matrix is a scalar value that provides information about the matrix's invertibility and scaling properties. In this example, the determinant of matrix F is computed and printed to illustrate its value.\n",
        "\n"
      ],
      "metadata": {
        "id": "k62NCwAb7aC1"
      }
    },
    {
      "cell_type": "markdown",
      "source": [
        "question 85 = Create a square matrix `G` and find its inverse"
      ],
      "metadata": {
        "id": "b2jDXq3dDaZJ"
      }
    },
    {
      "cell_type": "code",
      "source": [
        "import numpy as np\n",
        "\n",
        "G = np.array([[1, 2], [3, 4]])\n",
        "inverse_G = np.linalg.inv(G)\n",
        "\n",
        "print(\"Original matrix G:\")\n",
        "print(G)\n",
        "print(\"\\nInverse of matrix G:\")\n",
        "print(inverse_G)\n"
      ],
      "metadata": {
        "id": "WIXm4JpADgrT",
        "outputId": "9ff255bb-bb34-40b7-9aa9-00bd792b3020",
        "colab": {
          "base_uri": "https://localhost:8080/"
        }
      },
      "execution_count": null,
      "outputs": [
        {
          "output_type": "stream",
          "name": "stdout",
          "text": [
            "Original matrix G:\n",
            "[[1 2]\n",
            " [3 4]]\n",
            "\n",
            "Inverse of matrix G:\n",
            "[[-2.   1. ]\n",
            " [ 1.5 -0.5]]\n"
          ]
        }
      ]
    },
    {
      "cell_type": "markdown",
      "source": [
        "**Code Execution Explanation=>**\n",
        "This code showcases how to compute the inverse of a square matrix using NumPy in Python. Matrix G is initialized as a 2x2 matrix with specific values. The inverse of G is computed using np.linalg.inv(G), a NumPy function that calculates the matrix inverse. The inverse matrix is fundamental in linear algebra as it allows solving systems of linear equations and understanding the matrix's properties like invertibility. In this example, the original matrix G and its inverse are printed to demonstrate the result of the computation."
      ],
      "metadata": {
        "id": "f5X206zS70x1"
      }
    },
    {
      "cell_type": "markdown",
      "source": [
        "***I want to thank the faculty and staff at PW Skills for their strong support and guidance throughout this assignment. Their expertise and encouragement have been crucial in helping me grasp and apply NumPy, improving my data analytics skills. I also express my sincere gratitude to the faculty 🙏 assessing this assignment for their time and feedback. This experience has enriched my knowledge and motivated me to explore further in this field, fueling my passion for learning and problem-solving.:***"
      ],
      "metadata": {
        "id": "Y1i-KpYLBD2z"
      }
    }
  ]
}